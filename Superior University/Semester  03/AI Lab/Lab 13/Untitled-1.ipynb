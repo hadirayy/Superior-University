{
 "cells": [
  {
   "cell_type": "code",
   "execution_count": 1,
   "id": "f712f8ee",
   "metadata": {},
   "outputs": [],
   "source": [
    "import pandas as pd\n",
    "import numpy as np\n",
    "\n",
    "from sklearn.preprocessing import LabelEncoder\n",
    "from sklearn.model_selection import train_test_split"
   ]
  },
  {
   "cell_type": "code",
   "execution_count": 2,
   "id": "da136023",
   "metadata": {},
   "outputs": [
    {
     "name": "stdout",
     "output_type": "stream",
     "text": [
      "      unnamed    Make  Engine Fuel Type  Engine HP  Engine Cylinders  \\\n",
      "0         479  Toyota  regular unleaded      270.0               6.0   \n",
      "1         480  Toyota  regular unleaded      270.0               6.0   \n",
      "2         481  Toyota  regular unleaded      270.0               6.0   \n",
      "3         482  Toyota  regular unleaded      270.0               6.0   \n",
      "4         483  Toyota  regular unleaded      270.0               6.0   \n",
      "...       ...     ...               ...        ...               ...   \n",
      "2107    11827  Toyota  regular unleaded      106.0               4.0   \n",
      "2108    11828  Toyota  regular unleaded      106.0               4.0   \n",
      "2109    11829  Toyota  regular unleaded      106.0               4.0   \n",
      "2110    11830  Toyota  regular unleaded      106.0               4.0   \n",
      "2111    11831  Toyota  regular unleaded      106.0               4.0   \n",
      "\n",
      "     Transmission Type      Driven_Wheels Vehicle Size  city mpg  Popularity  \\\n",
      "0            AUTOMATIC   rear wheel drive      Midsize        17        2031   \n",
      "1            AUTOMATIC   rear wheel drive      Midsize        17        2031   \n",
      "2            AUTOMATIC   four wheel drive      Midsize        17        2031   \n",
      "3            AUTOMATIC   four wheel drive      Midsize        17        2031   \n",
      "4            AUTOMATIC   four wheel drive      Midsize        17        2031   \n",
      "...                ...                ...          ...       ...         ...   \n",
      "2107            MANUAL  front wheel drive      Compact        30        2031   \n",
      "2108         AUTOMATIC  front wheel drive      Compact        30        2031   \n",
      "2109         AUTOMATIC  front wheel drive      Compact        30        2031   \n",
      "2110         AUTOMATIC  front wheel drive      Compact        30        2031   \n",
      "2111            MANUAL  front wheel drive      Compact        30        2031   \n",
      "\n",
      "       MSRP   Price  \n",
      "0     41365  450000  \n",
      "1     35740  450000  \n",
      "2     37615  450000  \n",
      "3     34695  450000  \n",
      "4     35725  450000  \n",
      "...     ...     ...  \n",
      "2107  15250  650000  \n",
      "2108  16375  650000  \n",
      "2109  17285  650000  \n",
      "2110  18000  650000  \n",
      "2111  17200  650000  \n",
      "\n",
      "[2112 rows x 12 columns]\n"
     ]
    }
   ],
   "source": [
    "df=pd.read_csv(\"vechile_Price_Dataset.csv\")\n",
    "print(df)"
   ]
  },
  {
   "cell_type": "code",
   "execution_count": 3,
   "id": "befad1d8",
   "metadata": {},
   "outputs": [
    {
     "name": "stdout",
     "output_type": "stream",
     "text": [
      "Number of Rows:2112\n",
      " Number of coloum:12\n"
     ]
    }
   ],
   "source": [
    "print(f\"Number of Rows:{df.shape[0]}\\n Number of coloum:{df.shape[1]}\")"
   ]
  },
  {
   "cell_type": "code",
   "execution_count": 4,
   "id": "b5ee8a8e",
   "metadata": {},
   "outputs": [
    {
     "data": {
      "application/vnd.microsoft.datawrangler.viewer.v0+json": {
       "columns": [
        {
         "name": "index",
         "rawType": "int64",
         "type": "integer"
        },
        {
         "name": "unnamed",
         "rawType": "int64",
         "type": "integer"
        },
        {
         "name": "Make",
         "rawType": "object",
         "type": "string"
        },
        {
         "name": "Engine Fuel Type",
         "rawType": "object",
         "type": "string"
        },
        {
         "name": "Engine HP",
         "rawType": "float64",
         "type": "float"
        },
        {
         "name": "Engine Cylinders",
         "rawType": "float64",
         "type": "float"
        },
        {
         "name": "Transmission Type",
         "rawType": "object",
         "type": "string"
        },
        {
         "name": "Driven_Wheels",
         "rawType": "object",
         "type": "string"
        },
        {
         "name": "Vehicle Size",
         "rawType": "object",
         "type": "string"
        },
        {
         "name": "city mpg",
         "rawType": "int64",
         "type": "integer"
        },
        {
         "name": "Popularity",
         "rawType": "int64",
         "type": "integer"
        },
        {
         "name": "MSRP",
         "rawType": "int64",
         "type": "integer"
        },
        {
         "name": "Price",
         "rawType": "int64",
         "type": "integer"
        }
       ],
       "conversionMethod": "pd.DataFrame",
       "ref": "b4670455-d372-4113-a48f-2ff2230c018c",
       "rows": [
        [
         "0",
         "479",
         "Toyota",
         "regular unleaded",
         "270.0",
         "6.0",
         "AUTOMATIC",
         "rear wheel drive",
         "Midsize",
         "17",
         "2031",
         "41365",
         "450000"
        ],
        [
         "1",
         "480",
         "Toyota",
         "regular unleaded",
         "270.0",
         "6.0",
         "AUTOMATIC",
         "rear wheel drive",
         "Midsize",
         "17",
         "2031",
         "35740",
         "450000"
        ],
        [
         "2",
         "481",
         "Toyota",
         "regular unleaded",
         "270.0",
         "6.0",
         "AUTOMATIC",
         "four wheel drive",
         "Midsize",
         "17",
         "2031",
         "37615",
         "450000"
        ],
        [
         "3",
         "482",
         "Toyota",
         "regular unleaded",
         "270.0",
         "6.0",
         "AUTOMATIC",
         "four wheel drive",
         "Midsize",
         "17",
         "2031",
         "34695",
         "450000"
        ],
        [
         "4",
         "483",
         "Toyota",
         "regular unleaded",
         "270.0",
         "6.0",
         "AUTOMATIC",
         "four wheel drive",
         "Midsize",
         "17",
         "2031",
         "35725",
         "450000"
        ],
        [
         "5",
         "484",
         "Toyota",
         "regular unleaded",
         "270.0",
         "6.0",
         "AUTOMATIC",
         "four wheel drive",
         "Midsize",
         "17",
         "2031",
         "43400",
         "450000"
        ],
        [
         "6",
         "485",
         "Toyota",
         "regular unleaded",
         "270.0",
         "6.0",
         "AUTOMATIC",
         "rear wheel drive",
         "Midsize",
         "17",
         "2031",
         "32820",
         "450000"
        ],
        [
         "7",
         "486",
         "Toyota",
         "regular unleaded",
         "270.0",
         "6.0",
         "AUTOMATIC",
         "four wheel drive",
         "Midsize",
         "17",
         "2031",
         "38645",
         "450000"
        ],
        [
         "8",
         "487",
         "Toyota",
         "regular unleaded",
         "270.0",
         "6.0",
         "AUTOMATIC",
         "four wheel drive",
         "Midsize",
         "17",
         "2031",
         "37825",
         "450000"
        ],
        [
         "9",
         "488",
         "Toyota",
         "regular unleaded",
         "270.0",
         "6.0",
         "AUTOMATIC",
         "four wheel drive",
         "Midsize",
         "17",
         "2031",
         "43620",
         "450000"
        ]
       ],
       "shape": {
        "columns": 12,
        "rows": 10
       }
      },
      "text/html": [
       "<div>\n",
       "<style scoped>\n",
       "    .dataframe tbody tr th:only-of-type {\n",
       "        vertical-align: middle;\n",
       "    }\n",
       "\n",
       "    .dataframe tbody tr th {\n",
       "        vertical-align: top;\n",
       "    }\n",
       "\n",
       "    .dataframe thead th {\n",
       "        text-align: right;\n",
       "    }\n",
       "</style>\n",
       "<table border=\"1\" class=\"dataframe\">\n",
       "  <thead>\n",
       "    <tr style=\"text-align: right;\">\n",
       "      <th></th>\n",
       "      <th>unnamed</th>\n",
       "      <th>Make</th>\n",
       "      <th>Engine Fuel Type</th>\n",
       "      <th>Engine HP</th>\n",
       "      <th>Engine Cylinders</th>\n",
       "      <th>Transmission Type</th>\n",
       "      <th>Driven_Wheels</th>\n",
       "      <th>Vehicle Size</th>\n",
       "      <th>city mpg</th>\n",
       "      <th>Popularity</th>\n",
       "      <th>MSRP</th>\n",
       "      <th>Price</th>\n",
       "    </tr>\n",
       "  </thead>\n",
       "  <tbody>\n",
       "    <tr>\n",
       "      <th>0</th>\n",
       "      <td>479</td>\n",
       "      <td>Toyota</td>\n",
       "      <td>regular unleaded</td>\n",
       "      <td>270.0</td>\n",
       "      <td>6.0</td>\n",
       "      <td>AUTOMATIC</td>\n",
       "      <td>rear wheel drive</td>\n",
       "      <td>Midsize</td>\n",
       "      <td>17</td>\n",
       "      <td>2031</td>\n",
       "      <td>41365</td>\n",
       "      <td>450000</td>\n",
       "    </tr>\n",
       "    <tr>\n",
       "      <th>1</th>\n",
       "      <td>480</td>\n",
       "      <td>Toyota</td>\n",
       "      <td>regular unleaded</td>\n",
       "      <td>270.0</td>\n",
       "      <td>6.0</td>\n",
       "      <td>AUTOMATIC</td>\n",
       "      <td>rear wheel drive</td>\n",
       "      <td>Midsize</td>\n",
       "      <td>17</td>\n",
       "      <td>2031</td>\n",
       "      <td>35740</td>\n",
       "      <td>450000</td>\n",
       "    </tr>\n",
       "    <tr>\n",
       "      <th>2</th>\n",
       "      <td>481</td>\n",
       "      <td>Toyota</td>\n",
       "      <td>regular unleaded</td>\n",
       "      <td>270.0</td>\n",
       "      <td>6.0</td>\n",
       "      <td>AUTOMATIC</td>\n",
       "      <td>four wheel drive</td>\n",
       "      <td>Midsize</td>\n",
       "      <td>17</td>\n",
       "      <td>2031</td>\n",
       "      <td>37615</td>\n",
       "      <td>450000</td>\n",
       "    </tr>\n",
       "    <tr>\n",
       "      <th>3</th>\n",
       "      <td>482</td>\n",
       "      <td>Toyota</td>\n",
       "      <td>regular unleaded</td>\n",
       "      <td>270.0</td>\n",
       "      <td>6.0</td>\n",
       "      <td>AUTOMATIC</td>\n",
       "      <td>four wheel drive</td>\n",
       "      <td>Midsize</td>\n",
       "      <td>17</td>\n",
       "      <td>2031</td>\n",
       "      <td>34695</td>\n",
       "      <td>450000</td>\n",
       "    </tr>\n",
       "    <tr>\n",
       "      <th>4</th>\n",
       "      <td>483</td>\n",
       "      <td>Toyota</td>\n",
       "      <td>regular unleaded</td>\n",
       "      <td>270.0</td>\n",
       "      <td>6.0</td>\n",
       "      <td>AUTOMATIC</td>\n",
       "      <td>four wheel drive</td>\n",
       "      <td>Midsize</td>\n",
       "      <td>17</td>\n",
       "      <td>2031</td>\n",
       "      <td>35725</td>\n",
       "      <td>450000</td>\n",
       "    </tr>\n",
       "    <tr>\n",
       "      <th>5</th>\n",
       "      <td>484</td>\n",
       "      <td>Toyota</td>\n",
       "      <td>regular unleaded</td>\n",
       "      <td>270.0</td>\n",
       "      <td>6.0</td>\n",
       "      <td>AUTOMATIC</td>\n",
       "      <td>four wheel drive</td>\n",
       "      <td>Midsize</td>\n",
       "      <td>17</td>\n",
       "      <td>2031</td>\n",
       "      <td>43400</td>\n",
       "      <td>450000</td>\n",
       "    </tr>\n",
       "    <tr>\n",
       "      <th>6</th>\n",
       "      <td>485</td>\n",
       "      <td>Toyota</td>\n",
       "      <td>regular unleaded</td>\n",
       "      <td>270.0</td>\n",
       "      <td>6.0</td>\n",
       "      <td>AUTOMATIC</td>\n",
       "      <td>rear wheel drive</td>\n",
       "      <td>Midsize</td>\n",
       "      <td>17</td>\n",
       "      <td>2031</td>\n",
       "      <td>32820</td>\n",
       "      <td>450000</td>\n",
       "    </tr>\n",
       "    <tr>\n",
       "      <th>7</th>\n",
       "      <td>486</td>\n",
       "      <td>Toyota</td>\n",
       "      <td>regular unleaded</td>\n",
       "      <td>270.0</td>\n",
       "      <td>6.0</td>\n",
       "      <td>AUTOMATIC</td>\n",
       "      <td>four wheel drive</td>\n",
       "      <td>Midsize</td>\n",
       "      <td>17</td>\n",
       "      <td>2031</td>\n",
       "      <td>38645</td>\n",
       "      <td>450000</td>\n",
       "    </tr>\n",
       "    <tr>\n",
       "      <th>8</th>\n",
       "      <td>487</td>\n",
       "      <td>Toyota</td>\n",
       "      <td>regular unleaded</td>\n",
       "      <td>270.0</td>\n",
       "      <td>6.0</td>\n",
       "      <td>AUTOMATIC</td>\n",
       "      <td>four wheel drive</td>\n",
       "      <td>Midsize</td>\n",
       "      <td>17</td>\n",
       "      <td>2031</td>\n",
       "      <td>37825</td>\n",
       "      <td>450000</td>\n",
       "    </tr>\n",
       "    <tr>\n",
       "      <th>9</th>\n",
       "      <td>488</td>\n",
       "      <td>Toyota</td>\n",
       "      <td>regular unleaded</td>\n",
       "      <td>270.0</td>\n",
       "      <td>6.0</td>\n",
       "      <td>AUTOMATIC</td>\n",
       "      <td>four wheel drive</td>\n",
       "      <td>Midsize</td>\n",
       "      <td>17</td>\n",
       "      <td>2031</td>\n",
       "      <td>43620</td>\n",
       "      <td>450000</td>\n",
       "    </tr>\n",
       "  </tbody>\n",
       "</table>\n",
       "</div>"
      ],
      "text/plain": [
       "   unnamed    Make  Engine Fuel Type  Engine HP  Engine Cylinders  \\\n",
       "0      479  Toyota  regular unleaded      270.0               6.0   \n",
       "1      480  Toyota  regular unleaded      270.0               6.0   \n",
       "2      481  Toyota  regular unleaded      270.0               6.0   \n",
       "3      482  Toyota  regular unleaded      270.0               6.0   \n",
       "4      483  Toyota  regular unleaded      270.0               6.0   \n",
       "5      484  Toyota  regular unleaded      270.0               6.0   \n",
       "6      485  Toyota  regular unleaded      270.0               6.0   \n",
       "7      486  Toyota  regular unleaded      270.0               6.0   \n",
       "8      487  Toyota  regular unleaded      270.0               6.0   \n",
       "9      488  Toyota  regular unleaded      270.0               6.0   \n",
       "\n",
       "  Transmission Type     Driven_Wheels Vehicle Size  city mpg  Popularity  \\\n",
       "0         AUTOMATIC  rear wheel drive      Midsize        17        2031   \n",
       "1         AUTOMATIC  rear wheel drive      Midsize        17        2031   \n",
       "2         AUTOMATIC  four wheel drive      Midsize        17        2031   \n",
       "3         AUTOMATIC  four wheel drive      Midsize        17        2031   \n",
       "4         AUTOMATIC  four wheel drive      Midsize        17        2031   \n",
       "5         AUTOMATIC  four wheel drive      Midsize        17        2031   \n",
       "6         AUTOMATIC  rear wheel drive      Midsize        17        2031   \n",
       "7         AUTOMATIC  four wheel drive      Midsize        17        2031   \n",
       "8         AUTOMATIC  four wheel drive      Midsize        17        2031   \n",
       "9         AUTOMATIC  four wheel drive      Midsize        17        2031   \n",
       "\n",
       "    MSRP   Price  \n",
       "0  41365  450000  \n",
       "1  35740  450000  \n",
       "2  37615  450000  \n",
       "3  34695  450000  \n",
       "4  35725  450000  \n",
       "5  43400  450000  \n",
       "6  32820  450000  \n",
       "7  38645  450000  \n",
       "8  37825  450000  \n",
       "9  43620  450000  "
      ]
     },
     "execution_count": 4,
     "metadata": {},
     "output_type": "execute_result"
    }
   ],
   "source": [
    "df.head(10)"
   ]
  },
  {
   "cell_type": "code",
   "execution_count": 5,
   "id": "9fde8a0a",
   "metadata": {},
   "outputs": [
    {
     "data": {
      "application/vnd.microsoft.datawrangler.viewer.v0+json": {
       "columns": [
        {
         "name": "index",
         "rawType": "int64",
         "type": "integer"
        },
        {
         "name": "unnamed",
         "rawType": "int64",
         "type": "integer"
        },
        {
         "name": "Make",
         "rawType": "object",
         "type": "string"
        },
        {
         "name": "Engine Fuel Type",
         "rawType": "object",
         "type": "string"
        },
        {
         "name": "Engine HP",
         "rawType": "float64",
         "type": "float"
        },
        {
         "name": "Engine Cylinders",
         "rawType": "float64",
         "type": "float"
        },
        {
         "name": "Transmission Type",
         "rawType": "object",
         "type": "string"
        },
        {
         "name": "Driven_Wheels",
         "rawType": "object",
         "type": "string"
        },
        {
         "name": "Vehicle Size",
         "rawType": "object",
         "type": "string"
        },
        {
         "name": "city mpg",
         "rawType": "int64",
         "type": "integer"
        },
        {
         "name": "Popularity",
         "rawType": "int64",
         "type": "integer"
        },
        {
         "name": "MSRP",
         "rawType": "int64",
         "type": "integer"
        },
        {
         "name": "Price",
         "rawType": "int64",
         "type": "integer"
        }
       ],
       "conversionMethod": "pd.DataFrame",
       "ref": "28fd1471-f1a2-45e0-830e-2e7b765f4310",
       "rows": [
        [
         "2110",
         "11830",
         "Toyota",
         "regular unleaded",
         "106.0",
         "4.0",
         "AUTOMATIC",
         "front wheel drive",
         "Compact",
         "30",
         "2031",
         "18000",
         "650000"
        ],
        [
         "2111",
         "11831",
         "Toyota",
         "regular unleaded",
         "106.0",
         "4.0",
         "MANUAL",
         "front wheel drive",
         "Compact",
         "30",
         "2031",
         "17200",
         "650000"
        ]
       ],
       "shape": {
        "columns": 12,
        "rows": 2
       }
      },
      "text/html": [
       "<div>\n",
       "<style scoped>\n",
       "    .dataframe tbody tr th:only-of-type {\n",
       "        vertical-align: middle;\n",
       "    }\n",
       "\n",
       "    .dataframe tbody tr th {\n",
       "        vertical-align: top;\n",
       "    }\n",
       "\n",
       "    .dataframe thead th {\n",
       "        text-align: right;\n",
       "    }\n",
       "</style>\n",
       "<table border=\"1\" class=\"dataframe\">\n",
       "  <thead>\n",
       "    <tr style=\"text-align: right;\">\n",
       "      <th></th>\n",
       "      <th>unnamed</th>\n",
       "      <th>Make</th>\n",
       "      <th>Engine Fuel Type</th>\n",
       "      <th>Engine HP</th>\n",
       "      <th>Engine Cylinders</th>\n",
       "      <th>Transmission Type</th>\n",
       "      <th>Driven_Wheels</th>\n",
       "      <th>Vehicle Size</th>\n",
       "      <th>city mpg</th>\n",
       "      <th>Popularity</th>\n",
       "      <th>MSRP</th>\n",
       "      <th>Price</th>\n",
       "    </tr>\n",
       "  </thead>\n",
       "  <tbody>\n",
       "    <tr>\n",
       "      <th>2110</th>\n",
       "      <td>11830</td>\n",
       "      <td>Toyota</td>\n",
       "      <td>regular unleaded</td>\n",
       "      <td>106.0</td>\n",
       "      <td>4.0</td>\n",
       "      <td>AUTOMATIC</td>\n",
       "      <td>front wheel drive</td>\n",
       "      <td>Compact</td>\n",
       "      <td>30</td>\n",
       "      <td>2031</td>\n",
       "      <td>18000</td>\n",
       "      <td>650000</td>\n",
       "    </tr>\n",
       "    <tr>\n",
       "      <th>2111</th>\n",
       "      <td>11831</td>\n",
       "      <td>Toyota</td>\n",
       "      <td>regular unleaded</td>\n",
       "      <td>106.0</td>\n",
       "      <td>4.0</td>\n",
       "      <td>MANUAL</td>\n",
       "      <td>front wheel drive</td>\n",
       "      <td>Compact</td>\n",
       "      <td>30</td>\n",
       "      <td>2031</td>\n",
       "      <td>17200</td>\n",
       "      <td>650000</td>\n",
       "    </tr>\n",
       "  </tbody>\n",
       "</table>\n",
       "</div>"
      ],
      "text/plain": [
       "      unnamed    Make  Engine Fuel Type  Engine HP  Engine Cylinders  \\\n",
       "2110    11830  Toyota  regular unleaded      106.0               4.0   \n",
       "2111    11831  Toyota  regular unleaded      106.0               4.0   \n",
       "\n",
       "     Transmission Type      Driven_Wheels Vehicle Size  city mpg  Popularity  \\\n",
       "2110         AUTOMATIC  front wheel drive      Compact        30        2031   \n",
       "2111            MANUAL  front wheel drive      Compact        30        2031   \n",
       "\n",
       "       MSRP   Price  \n",
       "2110  18000  650000  \n",
       "2111  17200  650000  "
      ]
     },
     "execution_count": 5,
     "metadata": {},
     "output_type": "execute_result"
    }
   ],
   "source": [
    "df.tail(2)"
   ]
  },
  {
   "cell_type": "code",
   "execution_count": 6,
   "id": "d446204a",
   "metadata": {},
   "outputs": [
    {
     "data": {
      "application/vnd.microsoft.datawrangler.viewer.v0+json": {
       "columns": [
        {
         "name": "index",
         "rawType": "object",
         "type": "string"
        },
        {
         "name": "unnamed",
         "rawType": "float64",
         "type": "float"
        },
        {
         "name": "Engine HP",
         "rawType": "float64",
         "type": "float"
        },
        {
         "name": "Engine Cylinders",
         "rawType": "float64",
         "type": "float"
        },
        {
         "name": "city mpg",
         "rawType": "float64",
         "type": "float"
        },
        {
         "name": "Popularity",
         "rawType": "float64",
         "type": "float"
        },
        {
         "name": "MSRP",
         "rawType": "float64",
         "type": "float"
        },
        {
         "name": "Price",
         "rawType": "float64",
         "type": "float"
        }
       ],
       "conversionMethod": "pd.DataFrame",
       "ref": "0bb30835-8ebc-4ffc-9823-017b68bac487",
       "rows": [
        [
         "count",
         "2112.0",
         "2097.0",
         "2107.0",
         "2112.0",
         "2112.0",
         "2112.0",
         "2112.0"
        ],
        [
         "mean",
         "6319.160984848485",
         "228.80972818311875",
         "5.421452301850973",
         "20.861742424242426",
         "3135.974431818182",
         "28751.092329545456",
         "460700.75757575757"
        ],
        [
         "std",
         "3043.5794788670387",
         "84.93266608268428",
         "1.5478671960408683",
         "9.673926552569947",
         "2068.23209147024",
         "14041.947742399612",
         "45017.828347842245"
        ],
        [
         "min",
         "479.0",
         "63.0",
         "0.0",
         "11.0",
         "873.0",
         "2000.0",
         "450000.0"
        ],
        [
         "25%",
         "4354.75",
         "170.0",
         "4.0",
         "15.0",
         "873.0",
         "22582.5",
         "450000.0"
        ],
        [
         "50%",
         "5467.5",
         "210.0",
         "6.0",
         "19.0",
         "2031.0",
         "28990.0",
         "450000.0"
        ],
        [
         "75%",
         "9173.25",
         "280.0",
         "6.0",
         "24.0",
         "5657.0",
         "35097.5",
         "450000.0"
        ],
        [
         "max",
         "11831.0",
         "662.0",
         "12.0",
         "126.0",
         "5657.0",
         "149995.0",
         "650000.0"
        ]
       ],
       "shape": {
        "columns": 7,
        "rows": 8
       }
      },
      "text/html": [
       "<div>\n",
       "<style scoped>\n",
       "    .dataframe tbody tr th:only-of-type {\n",
       "        vertical-align: middle;\n",
       "    }\n",
       "\n",
       "    .dataframe tbody tr th {\n",
       "        vertical-align: top;\n",
       "    }\n",
       "\n",
       "    .dataframe thead th {\n",
       "        text-align: right;\n",
       "    }\n",
       "</style>\n",
       "<table border=\"1\" class=\"dataframe\">\n",
       "  <thead>\n",
       "    <tr style=\"text-align: right;\">\n",
       "      <th></th>\n",
       "      <th>unnamed</th>\n",
       "      <th>Engine HP</th>\n",
       "      <th>Engine Cylinders</th>\n",
       "      <th>city mpg</th>\n",
       "      <th>Popularity</th>\n",
       "      <th>MSRP</th>\n",
       "      <th>Price</th>\n",
       "    </tr>\n",
       "  </thead>\n",
       "  <tbody>\n",
       "    <tr>\n",
       "      <th>count</th>\n",
       "      <td>2112.000000</td>\n",
       "      <td>2097.000000</td>\n",
       "      <td>2107.000000</td>\n",
       "      <td>2112.000000</td>\n",
       "      <td>2112.000000</td>\n",
       "      <td>2112.000000</td>\n",
       "      <td>2112.000000</td>\n",
       "    </tr>\n",
       "    <tr>\n",
       "      <th>mean</th>\n",
       "      <td>6319.160985</td>\n",
       "      <td>228.809728</td>\n",
       "      <td>5.421452</td>\n",
       "      <td>20.861742</td>\n",
       "      <td>3135.974432</td>\n",
       "      <td>28751.092330</td>\n",
       "      <td>460700.757576</td>\n",
       "    </tr>\n",
       "    <tr>\n",
       "      <th>std</th>\n",
       "      <td>3043.579479</td>\n",
       "      <td>84.932666</td>\n",
       "      <td>1.547867</td>\n",
       "      <td>9.673927</td>\n",
       "      <td>2068.232091</td>\n",
       "      <td>14041.947742</td>\n",
       "      <td>45017.828348</td>\n",
       "    </tr>\n",
       "    <tr>\n",
       "      <th>min</th>\n",
       "      <td>479.000000</td>\n",
       "      <td>63.000000</td>\n",
       "      <td>0.000000</td>\n",
       "      <td>11.000000</td>\n",
       "      <td>873.000000</td>\n",
       "      <td>2000.000000</td>\n",
       "      <td>450000.000000</td>\n",
       "    </tr>\n",
       "    <tr>\n",
       "      <th>25%</th>\n",
       "      <td>4354.750000</td>\n",
       "      <td>170.000000</td>\n",
       "      <td>4.000000</td>\n",
       "      <td>15.000000</td>\n",
       "      <td>873.000000</td>\n",
       "      <td>22582.500000</td>\n",
       "      <td>450000.000000</td>\n",
       "    </tr>\n",
       "    <tr>\n",
       "      <th>50%</th>\n",
       "      <td>5467.500000</td>\n",
       "      <td>210.000000</td>\n",
       "      <td>6.000000</td>\n",
       "      <td>19.000000</td>\n",
       "      <td>2031.000000</td>\n",
       "      <td>28990.000000</td>\n",
       "      <td>450000.000000</td>\n",
       "    </tr>\n",
       "    <tr>\n",
       "      <th>75%</th>\n",
       "      <td>9173.250000</td>\n",
       "      <td>280.000000</td>\n",
       "      <td>6.000000</td>\n",
       "      <td>24.000000</td>\n",
       "      <td>5657.000000</td>\n",
       "      <td>35097.500000</td>\n",
       "      <td>450000.000000</td>\n",
       "    </tr>\n",
       "    <tr>\n",
       "      <th>max</th>\n",
       "      <td>11831.000000</td>\n",
       "      <td>662.000000</td>\n",
       "      <td>12.000000</td>\n",
       "      <td>126.000000</td>\n",
       "      <td>5657.000000</td>\n",
       "      <td>149995.000000</td>\n",
       "      <td>650000.000000</td>\n",
       "    </tr>\n",
       "  </tbody>\n",
       "</table>\n",
       "</div>"
      ],
      "text/plain": [
       "            unnamed    Engine HP  Engine Cylinders     city mpg   Popularity  \\\n",
       "count   2112.000000  2097.000000       2107.000000  2112.000000  2112.000000   \n",
       "mean    6319.160985   228.809728          5.421452    20.861742  3135.974432   \n",
       "std     3043.579479    84.932666          1.547867     9.673927  2068.232091   \n",
       "min      479.000000    63.000000          0.000000    11.000000   873.000000   \n",
       "25%     4354.750000   170.000000          4.000000    15.000000   873.000000   \n",
       "50%     5467.500000   210.000000          6.000000    19.000000  2031.000000   \n",
       "75%     9173.250000   280.000000          6.000000    24.000000  5657.000000   \n",
       "max    11831.000000   662.000000         12.000000   126.000000  5657.000000   \n",
       "\n",
       "                MSRP          Price  \n",
       "count    2112.000000    2112.000000  \n",
       "mean    28751.092330  460700.757576  \n",
       "std     14041.947742   45017.828348  \n",
       "min      2000.000000  450000.000000  \n",
       "25%     22582.500000  450000.000000  \n",
       "50%     28990.000000  450000.000000  \n",
       "75%     35097.500000  450000.000000  \n",
       "max    149995.000000  650000.000000  "
      ]
     },
     "execution_count": 6,
     "metadata": {},
     "output_type": "execute_result"
    }
   ],
   "source": [
    "df.describe()"
   ]
  },
  {
   "cell_type": "code",
   "execution_count": 7,
   "id": "84bfda8d",
   "metadata": {},
   "outputs": [
    {
     "name": "stdout",
     "output_type": "stream",
     "text": [
      "<class 'pandas.core.frame.DataFrame'>\n",
      "RangeIndex: 2112 entries, 0 to 2111\n",
      "Data columns (total 12 columns):\n",
      " #   Column             Non-Null Count  Dtype  \n",
      "---  ------             --------------  -----  \n",
      " 0   unnamed            2112 non-null   int64  \n",
      " 1   Make               2112 non-null   object \n",
      " 2   Engine Fuel Type   2112 non-null   object \n",
      " 3   Engine HP          2097 non-null   float64\n",
      " 4   Engine Cylinders   2107 non-null   float64\n",
      " 5   Transmission Type  2112 non-null   object \n",
      " 6   Driven_Wheels      2112 non-null   object \n",
      " 7   Vehicle Size       2112 non-null   object \n",
      " 8   city mpg           2112 non-null   int64  \n",
      " 9   Popularity         2112 non-null   int64  \n",
      " 10  MSRP               2112 non-null   int64  \n",
      " 11  Price              2112 non-null   int64  \n",
      "dtypes: float64(2), int64(5), object(5)\n",
      "memory usage: 198.1+ KB\n"
     ]
    }
   ],
   "source": [
    "df.info()"
   ]
  },
  {
   "cell_type": "code",
   "execution_count": 8,
   "id": "143f89c0",
   "metadata": {},
   "outputs": [
    {
     "data": {
      "text/plain": [
       "Index(['unnamed', 'Make', 'Engine Fuel Type', 'Engine HP', 'Engine Cylinders',\n",
       "       'Transmission Type', 'Driven_Wheels', 'Vehicle Size', 'city mpg',\n",
       "       'Popularity', 'MSRP', 'Price'],\n",
       "      dtype='object')"
      ]
     },
     "execution_count": 8,
     "metadata": {},
     "output_type": "execute_result"
    }
   ],
   "source": [
    "df.columns"
   ]
  },
  {
   "cell_type": "code",
   "execution_count": 9,
   "id": "6d9dd739",
   "metadata": {},
   "outputs": [
    {
     "data": {
      "text/plain": [
       "unnamed              2112\n",
       "Make                 2112\n",
       "Engine Fuel Type     2112\n",
       "Engine HP            2097\n",
       "Engine Cylinders     2107\n",
       "Transmission Type    2112\n",
       "Driven_Wheels        2112\n",
       "Vehicle Size         2112\n",
       "city mpg             2112\n",
       "Popularity           2112\n",
       "MSRP                 2112\n",
       "Price                2112\n",
       "dtype: int64"
      ]
     },
     "execution_count": 9,
     "metadata": {},
     "output_type": "execute_result"
    }
   ],
   "source": [
    "df.count()"
   ]
  },
  {
   "cell_type": "code",
   "execution_count": 10,
   "id": "b0b951e2",
   "metadata": {},
   "outputs": [
    {
     "data": {
      "text/plain": [
       "array(['Toyota', 'Ford', 'Volkswagen'], dtype=object)"
      ]
     },
     "execution_count": 10,
     "metadata": {},
     "output_type": "execute_result"
    }
   ],
   "source": [
    "df['Make'].unique()"
   ]
  },
  {
   "cell_type": "code",
   "execution_count": 11,
   "id": "1dd04b68",
   "metadata": {},
   "outputs": [
    {
     "data": {
      "text/plain": [
       "unnamed              2112\n",
       "Make                    3\n",
       "Engine Fuel Type        6\n",
       "Engine HP             110\n",
       "Engine Cylinders        8\n",
       "Transmission Type       4\n",
       "Driven_Wheels           4\n",
       "Vehicle Size            3\n",
       "city mpg               35\n",
       "Popularity              3\n",
       "MSRP                 1592\n",
       "Price                   2\n",
       "dtype: int64"
      ]
     },
     "execution_count": 11,
     "metadata": {},
     "output_type": "execute_result"
    }
   ],
   "source": [
    "df.nunique()"
   ]
  },
  {
   "cell_type": "code",
   "execution_count": 12,
   "id": "aac02103",
   "metadata": {},
   "outputs": [
    {
     "data": {
      "text/plain": [
       "unnamed               0\n",
       "Make                  0\n",
       "Engine Fuel Type      0\n",
       "Engine HP            15\n",
       "Engine Cylinders      5\n",
       "Transmission Type     0\n",
       "Driven_Wheels         0\n",
       "Vehicle Size          0\n",
       "city mpg              0\n",
       "Popularity            0\n",
       "MSRP                  0\n",
       "Price                 0\n",
       "dtype: int64"
      ]
     },
     "execution_count": 12,
     "metadata": {},
     "output_type": "execute_result"
    }
   ],
   "source": [
    "df.isnull().sum()"
   ]
  },
  {
   "cell_type": "code",
   "execution_count": 13,
   "id": "c177b0ea",
   "metadata": {},
   "outputs": [
    {
     "name": "stdout",
     "output_type": "stream",
     "text": [
      "<class 'pandas.core.frame.DataFrame'>\n",
      "RangeIndex: 2112 entries, 0 to 2111\n",
      "Data columns (total 12 columns):\n",
      " #   Column             Non-Null Count  Dtype  \n",
      "---  ------             --------------  -----  \n",
      " 0   unnamed            2112 non-null   int64  \n",
      " 1   Make               2112 non-null   object \n",
      " 2   Engine Fuel Type   2112 non-null   object \n",
      " 3   Engine HP          2097 non-null   float64\n",
      " 4   Engine Cylinders   2107 non-null   float64\n",
      " 5   Transmission Type  2112 non-null   object \n",
      " 6   Driven_Wheels      2112 non-null   object \n",
      " 7   Vehicle Size       2112 non-null   object \n",
      " 8   city mpg           2112 non-null   int64  \n",
      " 9   Popularity         2112 non-null   int64  \n",
      " 10  MSRP               2112 non-null   int64  \n",
      " 11  Price              2112 non-null   int64  \n",
      "dtypes: float64(2), int64(5), object(5)\n",
      "memory usage: 198.1+ KB\n"
     ]
    }
   ],
   "source": [
    "df.info()"
   ]
  },
  {
   "cell_type": "code",
   "execution_count": 14,
   "id": "c99d3e01",
   "metadata": {},
   "outputs": [
    {
     "data": {
      "text/plain": [
       "unnamed               0\n",
       "Make                  0\n",
       "Engine Fuel Type      0\n",
       "Engine HP            15\n",
       "Engine Cylinders      5\n",
       "Transmission Type     0\n",
       "Driven_Wheels         0\n",
       "Vehicle Size          0\n",
       "city mpg              0\n",
       "Popularity            0\n",
       "MSRP                  0\n",
       "Price                 0\n",
       "dtype: int64"
      ]
     },
     "execution_count": 14,
     "metadata": {},
     "output_type": "execute_result"
    }
   ],
   "source": [
    "df.isnull().sum()"
   ]
  },
  {
   "cell_type": "code",
   "execution_count": 15,
   "id": "e44f0c87",
   "metadata": {},
   "outputs": [],
   "source": [
    "def fillNaMean(cols):\n",
    "    for i in cols:\n",
    "        df[i] = df[i].fillna(df[i].mean())\n",
    "\n",
    "columns = [ 'city mpg','Popularity','MSRP']\n",
    "fillNaMean(columns)"
   ]
  },
  {
   "cell_type": "code",
   "execution_count": 16,
   "id": "44145a2f",
   "metadata": {},
   "outputs": [],
   "source": [
    "def fillNaMode(cols):\n",
    "    for i in cols:\n",
    "        df[i] = df[i].fillna(df[i].mode()[0])\n",
    "\n",
    "columns = ['Transmission Type', 'Driven_Wheels',  'city mpg','Make','Engine HP','Popularity','MSRP','Engine Cylinders']\n",
    "fillNaMode(columns)"
   ]
  },
  {
   "cell_type": "code",
   "execution_count": 17,
   "id": "ae10f0b7",
   "metadata": {},
   "outputs": [
    {
     "data": {
      "text/plain": [
       "unnamed              0\n",
       "Make                 0\n",
       "Engine Fuel Type     0\n",
       "Engine HP            0\n",
       "Engine Cylinders     0\n",
       "Transmission Type    0\n",
       "Driven_Wheels        0\n",
       "Vehicle Size         0\n",
       "city mpg             0\n",
       "Popularity           0\n",
       "MSRP                 0\n",
       "Price                0\n",
       "dtype: int64"
      ]
     },
     "execution_count": 17,
     "metadata": {},
     "output_type": "execute_result"
    }
   ],
   "source": [
    "df.isnull().sum()"
   ]
  },
  {
   "cell_type": "code",
   "execution_count": 18,
   "id": "fce1fee0",
   "metadata": {},
   "outputs": [
    {
     "name": "stdout",
     "output_type": "stream",
     "text": [
      "<class 'pandas.core.frame.DataFrame'>\n",
      "RangeIndex: 2112 entries, 0 to 2111\n",
      "Data columns (total 12 columns):\n",
      " #   Column             Non-Null Count  Dtype  \n",
      "---  ------             --------------  -----  \n",
      " 0   unnamed            2112 non-null   int64  \n",
      " 1   Make               2112 non-null   object \n",
      " 2   Engine Fuel Type   2112 non-null   object \n",
      " 3   Engine HP          2112 non-null   float64\n",
      " 4   Engine Cylinders   2112 non-null   float64\n",
      " 5   Transmission Type  2112 non-null   object \n",
      " 6   Driven_Wheels      2112 non-null   object \n",
      " 7   Vehicle Size       2112 non-null   object \n",
      " 8   city mpg           2112 non-null   int64  \n",
      " 9   Popularity         2112 non-null   int64  \n",
      " 10  MSRP               2112 non-null   int64  \n",
      " 11  Price              2112 non-null   int64  \n",
      "dtypes: float64(2), int64(5), object(5)\n",
      "memory usage: 198.1+ KB\n"
     ]
    }
   ],
   "source": [
    "df.info()"
   ]
  },
  {
   "cell_type": "code",
   "execution_count": 19,
   "id": "fef4e11a",
   "metadata": {},
   "outputs": [],
   "source": [
    "df.drop('Engine Fuel Type', axis=1, inplace=True)\n",
    "df.drop('Engine Cylinders', axis=1, inplace=True)\n",
    "df.drop('city mpg', axis=1, inplace=True)\n",
    "df.drop('Popularity', axis=1, inplace=True)\n",
    "df.drop('MSRP', axis=1, inplace=True)\n",
    "df.drop('Vehicle Size', axis=1, inplace=True)\n",
    "df.drop('Driven_Wheels', axis=1, inplace=True)\n",
    "df.drop('unnamed', axis=1, inplace=True)\n"
   ]
  },
  {
   "cell_type": "code",
   "execution_count": 20,
   "id": "dd705912",
   "metadata": {},
   "outputs": [
    {
     "name": "stdout",
     "output_type": "stream",
     "text": [
      "<class 'pandas.core.frame.DataFrame'>\n",
      "RangeIndex: 2112 entries, 0 to 2111\n",
      "Data columns (total 4 columns):\n",
      " #   Column             Non-Null Count  Dtype  \n",
      "---  ------             --------------  -----  \n",
      " 0   Make               2112 non-null   object \n",
      " 1   Engine HP          2112 non-null   float64\n",
      " 2   Transmission Type  2112 non-null   object \n",
      " 3   Price              2112 non-null   int64  \n",
      "dtypes: float64(1), int64(1), object(2)\n",
      "memory usage: 66.1+ KB\n"
     ]
    }
   ],
   "source": [
    "df.info()"
   ]
  },
  {
   "cell_type": "code",
   "execution_count": 21,
   "id": "c8ba7d2b",
   "metadata": {},
   "outputs": [
    {
     "name": "stdout",
     "output_type": "stream",
     "text": [
      "<class 'pandas.core.frame.DataFrame'>\n",
      "RangeIndex: 2112 entries, 0 to 2111\n",
      "Data columns (total 4 columns):\n",
      " #   Column             Non-Null Count  Dtype  \n",
      "---  ------             --------------  -----  \n",
      " 0   Make               2112 non-null   object \n",
      " 1   Engine HP          2112 non-null   float64\n",
      " 2   Transmission Type  2112 non-null   object \n",
      " 3   Price              2112 non-null   int64  \n",
      "dtypes: float64(1), int64(1), object(2)\n",
      "memory usage: 66.1+ KB\n"
     ]
    }
   ],
   "source": [
    "df.info()"
   ]
  },
  {
   "cell_type": "code",
   "execution_count": 22,
   "id": "ef9ff759",
   "metadata": {},
   "outputs": [
    {
     "data": {
      "text/plain": [
       "array(['AUTOMATIC', 'MANUAL', 'AUTOMATED_MANUAL', 'DIRECT_DRIVE'],\n",
       "      dtype=object)"
      ]
     },
     "execution_count": 22,
     "metadata": {},
     "output_type": "execute_result"
    }
   ],
   "source": [
    "df['Transmission Type'].unique()"
   ]
  },
  {
   "cell_type": "code",
   "execution_count": 23,
   "id": "314a2247",
   "metadata": {},
   "outputs": [],
   "source": [
    "df_clean = df.copy()"
   ]
  },
  {
   "cell_type": "code",
   "execution_count": 24,
   "id": "b64d74ac",
   "metadata": {},
   "outputs": [],
   "source": [
    "def encodeCols(cols):\n",
    "    for i in cols:\n",
    "        temp = pd.DataFrame({i:df[i].unique()})\n",
    "        data_LE = LabelEncoder()\n",
    "        data_LE.fit(np.ravel(temp))\n",
    "        df_clean[i] = data_LE.transform(df[i])\n",
    "columns = ['Make','Transmission Type','Engine HP']\n",
    "encodeCols(columns)"
   ]
  },
  {
   "cell_type": "code",
   "execution_count": 25,
   "id": "d21e7f65",
   "metadata": {},
   "outputs": [
    {
     "data": {
      "application/vnd.microsoft.datawrangler.viewer.v0+json": {
       "columns": [
        {
         "name": "index",
         "rawType": "int64",
         "type": "integer"
        },
        {
         "name": "Make",
         "rawType": "int32",
         "type": "integer"
        },
        {
         "name": "Engine HP",
         "rawType": "int64",
         "type": "integer"
        },
        {
         "name": "Transmission Type",
         "rawType": "int32",
         "type": "integer"
        },
        {
         "name": "Price",
         "rawType": "int64",
         "type": "integer"
        }
       ],
       "conversionMethod": "pd.DataFrame",
       "ref": "f1b200b6-290f-4187-aec0-d42ad9acd0bb",
       "rows": [
        [
         "0",
         "1",
         "79",
         "1",
         "450000"
        ],
        [
         "1",
         "1",
         "79",
         "1",
         "450000"
        ],
        [
         "2",
         "1",
         "79",
         "1",
         "450000"
        ],
        [
         "3",
         "1",
         "79",
         "1",
         "450000"
        ],
        [
         "4",
         "1",
         "79",
         "1",
         "450000"
        ]
       ],
       "shape": {
        "columns": 4,
        "rows": 5
       }
      },
      "text/html": [
       "<div>\n",
       "<style scoped>\n",
       "    .dataframe tbody tr th:only-of-type {\n",
       "        vertical-align: middle;\n",
       "    }\n",
       "\n",
       "    .dataframe tbody tr th {\n",
       "        vertical-align: top;\n",
       "    }\n",
       "\n",
       "    .dataframe thead th {\n",
       "        text-align: right;\n",
       "    }\n",
       "</style>\n",
       "<table border=\"1\" class=\"dataframe\">\n",
       "  <thead>\n",
       "    <tr style=\"text-align: right;\">\n",
       "      <th></th>\n",
       "      <th>Make</th>\n",
       "      <th>Engine HP</th>\n",
       "      <th>Transmission Type</th>\n",
       "      <th>Price</th>\n",
       "    </tr>\n",
       "  </thead>\n",
       "  <tbody>\n",
       "    <tr>\n",
       "      <th>0</th>\n",
       "      <td>1</td>\n",
       "      <td>79</td>\n",
       "      <td>1</td>\n",
       "      <td>450000</td>\n",
       "    </tr>\n",
       "    <tr>\n",
       "      <th>1</th>\n",
       "      <td>1</td>\n",
       "      <td>79</td>\n",
       "      <td>1</td>\n",
       "      <td>450000</td>\n",
       "    </tr>\n",
       "    <tr>\n",
       "      <th>2</th>\n",
       "      <td>1</td>\n",
       "      <td>79</td>\n",
       "      <td>1</td>\n",
       "      <td>450000</td>\n",
       "    </tr>\n",
       "    <tr>\n",
       "      <th>3</th>\n",
       "      <td>1</td>\n",
       "      <td>79</td>\n",
       "      <td>1</td>\n",
       "      <td>450000</td>\n",
       "    </tr>\n",
       "    <tr>\n",
       "      <th>4</th>\n",
       "      <td>1</td>\n",
       "      <td>79</td>\n",
       "      <td>1</td>\n",
       "      <td>450000</td>\n",
       "    </tr>\n",
       "  </tbody>\n",
       "</table>\n",
       "</div>"
      ],
      "text/plain": [
       "   Make  Engine HP  Transmission Type   Price\n",
       "0     1         79                  1  450000\n",
       "1     1         79                  1  450000\n",
       "2     1         79                  1  450000\n",
       "3     1         79                  1  450000\n",
       "4     1         79                  1  450000"
      ]
     },
     "execution_count": 25,
     "metadata": {},
     "output_type": "execute_result"
    }
   ],
   "source": [
    "df_clean.head()"
   ]
  },
  {
   "cell_type": "code",
   "execution_count": 26,
   "id": "fe7c61ed",
   "metadata": {},
   "outputs": [
    {
     "name": "stdout",
     "output_type": "stream",
     "text": [
      "<class 'pandas.core.frame.DataFrame'>\n",
      "RangeIndex: 2112 entries, 0 to 2111\n",
      "Data columns (total 4 columns):\n",
      " #   Column             Non-Null Count  Dtype\n",
      "---  ------             --------------  -----\n",
      " 0   Make               2112 non-null   int32\n",
      " 1   Engine HP          2112 non-null   int64\n",
      " 2   Transmission Type  2112 non-null   int32\n",
      " 3   Price              2112 non-null   int64\n",
      "dtypes: int32(2), int64(2)\n",
      "memory usage: 49.6 KB\n"
     ]
    }
   ],
   "source": [
    "df_clean.info()"
   ]
  },
  {
   "cell_type": "code",
   "execution_count": 27,
   "id": "93239a42",
   "metadata": {},
   "outputs": [],
   "source": [
    "df_clean.to_csv(r'cleaned-data.csv', index=False, header=True)"
   ]
  },
  {
   "cell_type": "code",
   "execution_count": 28,
   "id": "2a6bc42c",
   "metadata": {},
   "outputs": [
    {
     "data": {
      "application/vnd.microsoft.datawrangler.viewer.v0+json": {
       "columns": [
        {
         "name": "index",
         "rawType": "int64",
         "type": "integer"
        },
        {
         "name": "Make",
         "rawType": "int32",
         "type": "integer"
        },
        {
         "name": "Engine HP",
         "rawType": "int64",
         "type": "integer"
        },
        {
         "name": "Transmission Type",
         "rawType": "int32",
         "type": "integer"
        },
        {
         "name": "Price",
         "rawType": "int64",
         "type": "integer"
        }
       ],
       "conversionMethod": "pd.DataFrame",
       "ref": "7eace19e-ee77-463f-a928-498d0685bdc4",
       "rows": [
        [
         "0",
         "1",
         "79",
         "1",
         "450000"
        ],
        [
         "1",
         "1",
         "79",
         "1",
         "450000"
        ]
       ],
       "shape": {
        "columns": 4,
        "rows": 2
       }
      },
      "text/html": [
       "<div>\n",
       "<style scoped>\n",
       "    .dataframe tbody tr th:only-of-type {\n",
       "        vertical-align: middle;\n",
       "    }\n",
       "\n",
       "    .dataframe tbody tr th {\n",
       "        vertical-align: top;\n",
       "    }\n",
       "\n",
       "    .dataframe thead th {\n",
       "        text-align: right;\n",
       "    }\n",
       "</style>\n",
       "<table border=\"1\" class=\"dataframe\">\n",
       "  <thead>\n",
       "    <tr style=\"text-align: right;\">\n",
       "      <th></th>\n",
       "      <th>Make</th>\n",
       "      <th>Engine HP</th>\n",
       "      <th>Transmission Type</th>\n",
       "      <th>Price</th>\n",
       "    </tr>\n",
       "  </thead>\n",
       "  <tbody>\n",
       "    <tr>\n",
       "      <th>0</th>\n",
       "      <td>1</td>\n",
       "      <td>79</td>\n",
       "      <td>1</td>\n",
       "      <td>450000</td>\n",
       "    </tr>\n",
       "    <tr>\n",
       "      <th>1</th>\n",
       "      <td>1</td>\n",
       "      <td>79</td>\n",
       "      <td>1</td>\n",
       "      <td>450000</td>\n",
       "    </tr>\n",
       "  </tbody>\n",
       "</table>\n",
       "</div>"
      ],
      "text/plain": [
       "   Make  Engine HP  Transmission Type   Price\n",
       "0     1         79                  1  450000\n",
       "1     1         79                  1  450000"
      ]
     },
     "execution_count": 28,
     "metadata": {},
     "output_type": "execute_result"
    }
   ],
   "source": [
    "df_clean.head(2)"
   ]
  },
  {
   "cell_type": "code",
   "execution_count": 29,
   "id": "db54a968",
   "metadata": {},
   "outputs": [],
   "source": [
    "X = df_clean.iloc()[:, 0:]\n",
    "y = df_clean.iloc()[:, 2]"
   ]
  },
  {
   "cell_type": "code",
   "execution_count": 30,
   "id": "0e25975c",
   "metadata": {},
   "outputs": [],
   "source": [
    "# X = df_clean[['Make','Engine HP','Transmission Type']]\n",
    "# y = df_clean['Price']"
   ]
  },
  {
   "cell_type": "code",
   "execution_count": 31,
   "id": "20a35769",
   "metadata": {},
   "outputs": [],
   "source": [
    "trainX, testX, trainY, testY = train_test_split(X, y, test_size=0.2, shuffle=False)"
   ]
  },
  {
   "cell_type": "code",
   "execution_count": 32,
   "id": "2f17dc8e",
   "metadata": {},
   "outputs": [
    {
     "data": {
      "application/vnd.microsoft.datawrangler.viewer.v0+json": {
       "columns": [
        {
         "name": "index",
         "rawType": "int64",
         "type": "integer"
        },
        {
         "name": "Make",
         "rawType": "int32",
         "type": "integer"
        },
        {
         "name": "Engine HP",
         "rawType": "int64",
         "type": "integer"
        },
        {
         "name": "Transmission Type",
         "rawType": "int32",
         "type": "integer"
        },
        {
         "name": "Price",
         "rawType": "int64",
         "type": "integer"
        }
       ],
       "conversionMethod": "pd.DataFrame",
       "ref": "37a2cfb5-d316-466f-937e-34371853e8d8",
       "rows": [
        [
         "0",
         "1",
         "79",
         "1",
         "450000"
        ],
        [
         "1",
         "1",
         "79",
         "1",
         "450000"
        ],
        [
         "2",
         "1",
         "79",
         "1",
         "450000"
        ],
        [
         "3",
         "1",
         "79",
         "1",
         "450000"
        ],
        [
         "4",
         "1",
         "79",
         "1",
         "450000"
        ]
       ],
       "shape": {
        "columns": 4,
        "rows": 5
       }
      },
      "text/html": [
       "<div>\n",
       "<style scoped>\n",
       "    .dataframe tbody tr th:only-of-type {\n",
       "        vertical-align: middle;\n",
       "    }\n",
       "\n",
       "    .dataframe tbody tr th {\n",
       "        vertical-align: top;\n",
       "    }\n",
       "\n",
       "    .dataframe thead th {\n",
       "        text-align: right;\n",
       "    }\n",
       "</style>\n",
       "<table border=\"1\" class=\"dataframe\">\n",
       "  <thead>\n",
       "    <tr style=\"text-align: right;\">\n",
       "      <th></th>\n",
       "      <th>Make</th>\n",
       "      <th>Engine HP</th>\n",
       "      <th>Transmission Type</th>\n",
       "      <th>Price</th>\n",
       "    </tr>\n",
       "  </thead>\n",
       "  <tbody>\n",
       "    <tr>\n",
       "      <th>0</th>\n",
       "      <td>1</td>\n",
       "      <td>79</td>\n",
       "      <td>1</td>\n",
       "      <td>450000</td>\n",
       "    </tr>\n",
       "    <tr>\n",
       "      <th>1</th>\n",
       "      <td>1</td>\n",
       "      <td>79</td>\n",
       "      <td>1</td>\n",
       "      <td>450000</td>\n",
       "    </tr>\n",
       "    <tr>\n",
       "      <th>2</th>\n",
       "      <td>1</td>\n",
       "      <td>79</td>\n",
       "      <td>1</td>\n",
       "      <td>450000</td>\n",
       "    </tr>\n",
       "    <tr>\n",
       "      <th>3</th>\n",
       "      <td>1</td>\n",
       "      <td>79</td>\n",
       "      <td>1</td>\n",
       "      <td>450000</td>\n",
       "    </tr>\n",
       "    <tr>\n",
       "      <th>4</th>\n",
       "      <td>1</td>\n",
       "      <td>79</td>\n",
       "      <td>1</td>\n",
       "      <td>450000</td>\n",
       "    </tr>\n",
       "  </tbody>\n",
       "</table>\n",
       "</div>"
      ],
      "text/plain": [
       "   Make  Engine HP  Transmission Type   Price\n",
       "0     1         79                  1  450000\n",
       "1     1         79                  1  450000\n",
       "2     1         79                  1  450000\n",
       "3     1         79                  1  450000\n",
       "4     1         79                  1  450000"
      ]
     },
     "execution_count": 32,
     "metadata": {},
     "output_type": "execute_result"
    }
   ],
   "source": [
    "trainX.head(5)"
   ]
  },
  {
   "cell_type": "code",
   "execution_count": 33,
   "id": "3c837609",
   "metadata": {},
   "outputs": [
    {
     "data": {
      "text/plain": [
       "0    1\n",
       "1    1\n",
       "Name: Transmission Type, dtype: int32"
      ]
     },
     "execution_count": 33,
     "metadata": {},
     "output_type": "execute_result"
    }
   ],
   "source": [
    "trainY.head(2)"
   ]
  },
  {
   "cell_type": "code",
   "execution_count": 34,
   "id": "8698bdab",
   "metadata": {},
   "outputs": [
    {
     "name": "stdout",
     "output_type": "stream",
     "text": [
      "TrainX: (1689, 4)\n",
      "TrainY: (1689,)\n",
      "TestX: (423, 4)\n",
      "TestY: (423,)\n"
     ]
    }
   ],
   "source": [
    "print(\"TrainX:\",trainX.shape)\n",
    "print(\"TrainY:\",trainY.shape)\n",
    "print(\"TestX:\",testX.shape)\n",
    "print(\"TestY:\",testY.shape)"
   ]
  },
  {
   "cell_type": "code",
   "execution_count": 35,
   "id": "a0ca83cb",
   "metadata": {},
   "outputs": [],
   "source": [
    "import pickle\n",
    "from sklearn.svm import SVC"
   ]
  },
  {
   "cell_type": "code",
   "execution_count": 36,
   "id": "225f0b64",
   "metadata": {},
   "outputs": [
    {
     "name": "stdout",
     "output_type": "stream",
     "text": [
      "SVC()\n"
     ]
    }
   ],
   "source": [
    "model_SVC = SVC()\n",
    "model_SVC.fit(trainX, trainY)\n",
    "\n",
    "print(model_SVC)"
   ]
  },
  {
   "cell_type": "code",
   "execution_count": 37,
   "id": "19d8e423",
   "metadata": {},
   "outputs": [],
   "source": [
    "pickle.dump(model_SVC, open('model_svc.pkl', 'wb'))"
   ]
  },
  {
   "cell_type": "code",
   "execution_count": 38,
   "id": "160dfef4",
   "metadata": {},
   "outputs": [],
   "source": [
    "model_svc = pickle.load(open('model_svc.pkl', 'rb'))"
   ]
  },
  {
   "cell_type": "code",
   "execution_count": 39,
   "id": "e4ae2326",
   "metadata": {},
   "outputs": [],
   "source": [
    "svc_predictions = model_SVC.predict(testX)"
   ]
  },
  {
   "cell_type": "code",
   "execution_count": 40,
   "id": "bee73117",
   "metadata": {},
   "outputs": [
    {
     "name": "stdout",
     "output_type": "stream",
     "text": [
      "[1 1 1 1 1 1 1 1 1 1 1 1 1 1 1 1 1 1 1 1 1 1 1 1 1 1 1 1 1 1 1 1 1 1 1 1 1\n",
      " 1 1 1 1 1 1 1 1 1 1 1 1 1 1 1 1 1 1 1 1 1 1 1 1 1 1 1 1 1 1 1 1 1 1 1 1 1\n",
      " 1 1 1 1 1 1 1 1 1 1 1 1 1 1 1 1 1 1 1 1 1 1 1 1 1 1 1 1 1 1 1 1 1 1 1 1 1\n",
      " 1 1 1 1 1 1 1 1 1 1 1 1 1 1 1 1 1 1 1 1 1 1 1 1 1 1 1 1 1 1 1 1 1 1 1 1 1\n",
      " 1 1 1 1 1 1 1 1 1 1 1 1 1 1 1 1 1 1 1 1 1 1 1 1 1 1 1 1 1 1 1 1 1 1 1 1 1\n",
      " 1 1 1 1 1 1 1 1 1 1 1 1 1 1 1 1 1 1 1 1 1 1 1 1 1 1 1 1 1 1 1 1 1 1 1 1 1\n",
      " 1 1 1 1 1 1 1 1 1 1 1 1 1 1 1 1 1 1 1 1 1 1 1 1 1 1 1 1 1 1 1 1 1 1 1 1 1\n",
      " 1 1 1 1 1 1 1 1 1 1 1 1 1 1 1 1 1 1 1 1 1 1 1 1 1 1 1 1 1 1 1 1 1 1 1 1 1\n",
      " 1 1 1 1 1 1 1 1 1 1 1 1 1 1 1 1 1 1 1 1 1 1 1 1 1 1 1 1 1 1 1 1 1 1 1 1 1\n",
      " 1 1 1 1 1 1 1 1 1 1 1 1 1 1 1 1 1 1 1 1 1 1 1 1 1 1 1 1 1 1 1 1 1 1 1 1 1\n",
      " 1 1 1 1 1 1 1 1 1 1 1 1 1 1 1 1 1 1 1 1 1 1 1 1 1 1 1 1 1 1 1 1 1 1 1 1 1\n",
      " 1 1 1 1 1 1 1 1 1 1 1 1 1 1 1 1]\n"
     ]
    }
   ],
   "source": [
    "print(svc_predictions)"
   ]
  },
  {
   "cell_type": "code",
   "execution_count": 41,
   "id": "9f70d8e4",
   "metadata": {},
   "outputs": [
    {
     "name": "stdout",
     "output_type": "stream",
     "text": [
      "-- Model Accuracy: 0.924\n"
     ]
    }
   ],
   "source": [
    "from sklearn.metrics import accuracy_score\n",
    "svc_accuracy = accuracy_score(testY, svc_predictions)\n",
    "print(\"-- Model Accuracy: \", end=\"\")\n",
    "print(round(svc_accuracy,3))"
   ]
  },
  {
   "cell_type": "code",
   "execution_count": null,
   "id": "90b8d704",
   "metadata": {},
   "outputs": [],
   "source": []
  },
  {
   "cell_type": "code",
   "execution_count": null,
   "id": "c3a30282",
   "metadata": {},
   "outputs": [],
   "source": []
  },
  {
   "cell_type": "code",
   "execution_count": null,
   "id": "9ca9e8f4",
   "metadata": {},
   "outputs": [],
   "source": []
  }
 ],
 "metadata": {
  "kernelspec": {
   "display_name": "base",
   "language": "python",
   "name": "python3"
  },
  "language_info": {
   "codemirror_mode": {
    "name": "ipython",
    "version": 3
   },
   "file_extension": ".py",
   "mimetype": "text/x-python",
   "name": "python",
   "nbconvert_exporter": "python",
   "pygments_lexer": "ipython3",
   "version": "3.12.7"
  }
 },
 "nbformat": 4,
 "nbformat_minor": 5
}
