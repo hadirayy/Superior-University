{
 "cells": [
  {
   "cell_type": "code",
   "execution_count": 1,
   "id": "499b86c6",
   "metadata": {},
   "outputs": [],
   "source": [
    "import pandas as pd\n",
    "import numpy as np\n",
    "\n",
    "from sklearn.preprocessing import LabelEncoder\n",
    "from sklearn.model_selection import train_test_split"
   ]
  },
  {
   "cell_type": "markdown",
   "id": "b62dd235",
   "metadata": {},
   "source": [
    "# Data Loading"
   ]
  },
  {
   "cell_type": "code",
   "execution_count": 2,
   "id": "b2360f75",
   "metadata": {},
   "outputs": [
    {
     "name": "stdout",
     "output_type": "stream",
     "text": [
      "       Name  Age        Salary  Gender Department   Position Joining Date  \\\n",
      "0     grace   25  50000.000000    Male         HR    Manager   2018-04-05   \n",
      "1     david    0  65000.000000  Female    Finance   Director          NaN   \n",
      "2    hannah   35  60000.000000  Female      Sales   Director          NaN   \n",
      "3       eve    0  50000.000000  Female         IT    Manager   2018-04-05   \n",
      "4     grace    0  60216.086435  Female    Finance    Manager          NaN   \n",
      "..      ...  ...           ...     ...        ...        ...          ...   \n",
      "995    jack   50  65000.000000  Female         HR    Manager          NaN   \n",
      "996    jack   30  50000.000000    Male    Finance    Analyst   2018-04-05   \n",
      "997  hannah   30  70000.000000    Male         IT  Assistant          NaN   \n",
      "998     bob   25  65000.000000   Other  Marketing    Manager   2018-04-05   \n",
      "999     ivy   30  60000.000000    Male    Finance    Manager          NaN   \n",
      "\n",
      "    Performance Score                 Email  Phone Number  \n",
      "0                   D     email@example.com  000-000-0000  \n",
      "1                   F       user@domain.com  123-456-7890  \n",
      "2                   C     email@example.com  098-765-4321  \n",
      "3                   A      name@company.org           NaN  \n",
      "4                   F      name@company.org  098-765-4321  \n",
      "..                ...                   ...           ...  \n",
      "995                 F  no_email@example.com  098-765-4321  \n",
      "996                 C  no_email@example.com  555-555-5555  \n",
      "997                 D       user@domain.com  000-000-0000  \n",
      "998                 D     email@example.com  000-000-0000  \n",
      "999                 C       user@domain.com  123-456-7890  \n",
      "\n",
      "[1000 rows x 10 columns]\n"
     ]
    }
   ],
   "source": [
    "df=pd.read_csv(\"cleaned_messy_HR_data.csv\")\n",
    "print(df)"
   ]
  },
  {
   "cell_type": "markdown",
   "id": "81baa70b",
   "metadata": {},
   "source": [
    "# Data Exploration"
   ]
  },
  {
   "cell_type": "code",
   "execution_count": 3,
   "id": "ea9dd7e4",
   "metadata": {},
   "outputs": [
    {
     "name": "stdout",
     "output_type": "stream",
     "text": [
      "Number of Rows:1000\n",
      " Number of coloum:10\n"
     ]
    }
   ],
   "source": [
    "print(f\"Number of Rows:{df.shape[0]}\\n Number of coloum:{df.shape[1]}\")"
   ]
  },
  {
   "cell_type": "code",
   "execution_count": 4,
   "id": "983ac7f9",
   "metadata": {},
   "outputs": [
    {
     "data": {
      "text/html": [
       "<div>\n",
       "<style scoped>\n",
       "    .dataframe tbody tr th:only-of-type {\n",
       "        vertical-align: middle;\n",
       "    }\n",
       "\n",
       "    .dataframe tbody tr th {\n",
       "        vertical-align: top;\n",
       "    }\n",
       "\n",
       "    .dataframe thead th {\n",
       "        text-align: right;\n",
       "    }\n",
       "</style>\n",
       "<table border=\"1\" class=\"dataframe\">\n",
       "  <thead>\n",
       "    <tr style=\"text-align: right;\">\n",
       "      <th></th>\n",
       "      <th>Name</th>\n",
       "      <th>Age</th>\n",
       "      <th>Salary</th>\n",
       "      <th>Gender</th>\n",
       "      <th>Department</th>\n",
       "      <th>Position</th>\n",
       "      <th>Joining Date</th>\n",
       "      <th>Performance Score</th>\n",
       "      <th>Email</th>\n",
       "      <th>Phone Number</th>\n",
       "    </tr>\n",
       "  </thead>\n",
       "  <tbody>\n",
       "    <tr>\n",
       "      <th>0</th>\n",
       "      <td>grace</td>\n",
       "      <td>25</td>\n",
       "      <td>50000.000000</td>\n",
       "      <td>Male</td>\n",
       "      <td>HR</td>\n",
       "      <td>Manager</td>\n",
       "      <td>2018-04-05</td>\n",
       "      <td>D</td>\n",
       "      <td>email@example.com</td>\n",
       "      <td>000-000-0000</td>\n",
       "    </tr>\n",
       "    <tr>\n",
       "      <th>1</th>\n",
       "      <td>david</td>\n",
       "      <td>0</td>\n",
       "      <td>65000.000000</td>\n",
       "      <td>Female</td>\n",
       "      <td>Finance</td>\n",
       "      <td>Director</td>\n",
       "      <td>NaN</td>\n",
       "      <td>F</td>\n",
       "      <td>user@domain.com</td>\n",
       "      <td>123-456-7890</td>\n",
       "    </tr>\n",
       "    <tr>\n",
       "      <th>2</th>\n",
       "      <td>hannah</td>\n",
       "      <td>35</td>\n",
       "      <td>60000.000000</td>\n",
       "      <td>Female</td>\n",
       "      <td>Sales</td>\n",
       "      <td>Director</td>\n",
       "      <td>NaN</td>\n",
       "      <td>C</td>\n",
       "      <td>email@example.com</td>\n",
       "      <td>098-765-4321</td>\n",
       "    </tr>\n",
       "    <tr>\n",
       "      <th>3</th>\n",
       "      <td>eve</td>\n",
       "      <td>0</td>\n",
       "      <td>50000.000000</td>\n",
       "      <td>Female</td>\n",
       "      <td>IT</td>\n",
       "      <td>Manager</td>\n",
       "      <td>2018-04-05</td>\n",
       "      <td>A</td>\n",
       "      <td>name@company.org</td>\n",
       "      <td>NaN</td>\n",
       "    </tr>\n",
       "    <tr>\n",
       "      <th>4</th>\n",
       "      <td>grace</td>\n",
       "      <td>0</td>\n",
       "      <td>60216.086435</td>\n",
       "      <td>Female</td>\n",
       "      <td>Finance</td>\n",
       "      <td>Manager</td>\n",
       "      <td>NaN</td>\n",
       "      <td>F</td>\n",
       "      <td>name@company.org</td>\n",
       "      <td>098-765-4321</td>\n",
       "    </tr>\n",
       "    <tr>\n",
       "      <th>5</th>\n",
       "      <td>jack</td>\n",
       "      <td>0</td>\n",
       "      <td>65000.000000</td>\n",
       "      <td>Other</td>\n",
       "      <td>Marketing</td>\n",
       "      <td>Director</td>\n",
       "      <td>NaN</td>\n",
       "      <td>F</td>\n",
       "      <td>user@domain.com</td>\n",
       "      <td>000-000-0000</td>\n",
       "    </tr>\n",
       "    <tr>\n",
       "      <th>6</th>\n",
       "      <td>charlie</td>\n",
       "      <td>0</td>\n",
       "      <td>50000.000000</td>\n",
       "      <td>Male</td>\n",
       "      <td>Marketing</td>\n",
       "      <td>Clerk</td>\n",
       "      <td>NaN</td>\n",
       "      <td>B</td>\n",
       "      <td>no_email@example.com</td>\n",
       "      <td>123-456-7890</td>\n",
       "    </tr>\n",
       "    <tr>\n",
       "      <th>7</th>\n",
       "      <td>grace</td>\n",
       "      <td>40</td>\n",
       "      <td>50000.000000</td>\n",
       "      <td>Other</td>\n",
       "      <td>HR</td>\n",
       "      <td>Director</td>\n",
       "      <td>NaN</td>\n",
       "      <td>C</td>\n",
       "      <td>no_email@example.com</td>\n",
       "      <td>NaN</td>\n",
       "    </tr>\n",
       "    <tr>\n",
       "      <th>8</th>\n",
       "      <td>hannah</td>\n",
       "      <td>40</td>\n",
       "      <td>60000.000000</td>\n",
       "      <td>Female</td>\n",
       "      <td>Marketing</td>\n",
       "      <td>Manager</td>\n",
       "      <td>NaN</td>\n",
       "      <td>C</td>\n",
       "      <td>user@domain.com</td>\n",
       "      <td>123-456-7890</td>\n",
       "    </tr>\n",
       "    <tr>\n",
       "      <th>9</th>\n",
       "      <td>eve</td>\n",
       "      <td>30</td>\n",
       "      <td>60216.086435</td>\n",
       "      <td>Other</td>\n",
       "      <td>Finance</td>\n",
       "      <td>Assistant</td>\n",
       "      <td>NaN</td>\n",
       "      <td>A</td>\n",
       "      <td>no_email@example.com</td>\n",
       "      <td>NaN</td>\n",
       "    </tr>\n",
       "  </tbody>\n",
       "</table>\n",
       "</div>"
      ],
      "text/plain": [
       "      Name  Age        Salary  Gender Department   Position Joining Date  \\\n",
       "0    grace   25  50000.000000    Male         HR    Manager   2018-04-05   \n",
       "1    david    0  65000.000000  Female    Finance   Director          NaN   \n",
       "2   hannah   35  60000.000000  Female      Sales   Director          NaN   \n",
       "3      eve    0  50000.000000  Female         IT    Manager   2018-04-05   \n",
       "4    grace    0  60216.086435  Female    Finance    Manager          NaN   \n",
       "5     jack    0  65000.000000   Other  Marketing   Director          NaN   \n",
       "6  charlie    0  50000.000000    Male  Marketing      Clerk          NaN   \n",
       "7    grace   40  50000.000000   Other         HR   Director          NaN   \n",
       "8   hannah   40  60000.000000  Female  Marketing    Manager          NaN   \n",
       "9      eve   30  60216.086435   Other    Finance  Assistant          NaN   \n",
       "\n",
       "  Performance Score                 Email  Phone Number  \n",
       "0                 D     email@example.com  000-000-0000  \n",
       "1                 F       user@domain.com  123-456-7890  \n",
       "2                 C     email@example.com  098-765-4321  \n",
       "3                 A      name@company.org           NaN  \n",
       "4                 F      name@company.org  098-765-4321  \n",
       "5                 F       user@domain.com  000-000-0000  \n",
       "6                 B  no_email@example.com  123-456-7890  \n",
       "7                 C  no_email@example.com           NaN  \n",
       "8                 C       user@domain.com  123-456-7890  \n",
       "9                 A  no_email@example.com           NaN  "
      ]
     },
     "execution_count": 4,
     "metadata": {},
     "output_type": "execute_result"
    }
   ],
   "source": [
    "df.head(10)"
   ]
  },
  {
   "cell_type": "code",
   "execution_count": 5,
   "id": "e84b0a72",
   "metadata": {},
   "outputs": [
    {
     "data": {
      "text/html": [
       "<div>\n",
       "<style scoped>\n",
       "    .dataframe tbody tr th:only-of-type {\n",
       "        vertical-align: middle;\n",
       "    }\n",
       "\n",
       "    .dataframe tbody tr th {\n",
       "        vertical-align: top;\n",
       "    }\n",
       "\n",
       "    .dataframe thead th {\n",
       "        text-align: right;\n",
       "    }\n",
       "</style>\n",
       "<table border=\"1\" class=\"dataframe\">\n",
       "  <thead>\n",
       "    <tr style=\"text-align: right;\">\n",
       "      <th></th>\n",
       "      <th>Name</th>\n",
       "      <th>Age</th>\n",
       "      <th>Salary</th>\n",
       "      <th>Gender</th>\n",
       "      <th>Department</th>\n",
       "      <th>Position</th>\n",
       "      <th>Joining Date</th>\n",
       "      <th>Performance Score</th>\n",
       "      <th>Email</th>\n",
       "      <th>Phone Number</th>\n",
       "    </tr>\n",
       "  </thead>\n",
       "  <tbody>\n",
       "    <tr>\n",
       "      <th>998</th>\n",
       "      <td>bob</td>\n",
       "      <td>25</td>\n",
       "      <td>65000.0</td>\n",
       "      <td>Other</td>\n",
       "      <td>Marketing</td>\n",
       "      <td>Manager</td>\n",
       "      <td>2018-04-05</td>\n",
       "      <td>D</td>\n",
       "      <td>email@example.com</td>\n",
       "      <td>000-000-0000</td>\n",
       "    </tr>\n",
       "    <tr>\n",
       "      <th>999</th>\n",
       "      <td>ivy</td>\n",
       "      <td>30</td>\n",
       "      <td>60000.0</td>\n",
       "      <td>Male</td>\n",
       "      <td>Finance</td>\n",
       "      <td>Manager</td>\n",
       "      <td>NaN</td>\n",
       "      <td>C</td>\n",
       "      <td>user@domain.com</td>\n",
       "      <td>123-456-7890</td>\n",
       "    </tr>\n",
       "  </tbody>\n",
       "</table>\n",
       "</div>"
      ],
      "text/plain": [
       "    Name  Age   Salary Gender Department Position Joining Date  \\\n",
       "998  bob   25  65000.0  Other  Marketing  Manager   2018-04-05   \n",
       "999  ivy   30  60000.0   Male    Finance  Manager          NaN   \n",
       "\n",
       "    Performance Score              Email  Phone Number  \n",
       "998                 D  email@example.com  000-000-0000  \n",
       "999                 C    user@domain.com  123-456-7890  "
      ]
     },
     "execution_count": 5,
     "metadata": {},
     "output_type": "execute_result"
    }
   ],
   "source": [
    "df.tail(2)"
   ]
  },
  {
   "cell_type": "code",
   "execution_count": 6,
   "id": "b5ef551b",
   "metadata": {},
   "outputs": [
    {
     "data": {
      "text/html": [
       "<div>\n",
       "<style scoped>\n",
       "    .dataframe tbody tr th:only-of-type {\n",
       "        vertical-align: middle;\n",
       "    }\n",
       "\n",
       "    .dataframe tbody tr th {\n",
       "        vertical-align: top;\n",
       "    }\n",
       "\n",
       "    .dataframe thead th {\n",
       "        text-align: right;\n",
       "    }\n",
       "</style>\n",
       "<table border=\"1\" class=\"dataframe\">\n",
       "  <thead>\n",
       "    <tr style=\"text-align: right;\">\n",
       "      <th></th>\n",
       "      <th>Age</th>\n",
       "      <th>Salary</th>\n",
       "    </tr>\n",
       "  </thead>\n",
       "  <tbody>\n",
       "    <tr>\n",
       "      <th>count</th>\n",
       "      <td>1000.000000</td>\n",
       "      <td>1000.000000</td>\n",
       "    </tr>\n",
       "    <tr>\n",
       "      <th>mean</th>\n",
       "      <td>30.110000</td>\n",
       "      <td>60216.086435</td>\n",
       "    </tr>\n",
       "    <tr>\n",
       "      <th>std</th>\n",
       "      <td>15.266662</td>\n",
       "      <td>6504.106999</td>\n",
       "    </tr>\n",
       "    <tr>\n",
       "      <th>min</th>\n",
       "      <td>0.000000</td>\n",
       "      <td>50000.000000</td>\n",
       "    </tr>\n",
       "    <tr>\n",
       "      <th>25%</th>\n",
       "      <td>25.000000</td>\n",
       "      <td>55000.000000</td>\n",
       "    </tr>\n",
       "    <tr>\n",
       "      <th>50%</th>\n",
       "      <td>30.000000</td>\n",
       "      <td>60216.086435</td>\n",
       "    </tr>\n",
       "    <tr>\n",
       "      <th>75%</th>\n",
       "      <td>40.000000</td>\n",
       "      <td>65000.000000</td>\n",
       "    </tr>\n",
       "    <tr>\n",
       "      <th>max</th>\n",
       "      <td>50.000000</td>\n",
       "      <td>70000.000000</td>\n",
       "    </tr>\n",
       "  </tbody>\n",
       "</table>\n",
       "</div>"
      ],
      "text/plain": [
       "               Age        Salary\n",
       "count  1000.000000   1000.000000\n",
       "mean     30.110000  60216.086435\n",
       "std      15.266662   6504.106999\n",
       "min       0.000000  50000.000000\n",
       "25%      25.000000  55000.000000\n",
       "50%      30.000000  60216.086435\n",
       "75%      40.000000  65000.000000\n",
       "max      50.000000  70000.000000"
      ]
     },
     "execution_count": 6,
     "metadata": {},
     "output_type": "execute_result"
    }
   ],
   "source": [
    "df.describe()"
   ]
  },
  {
   "cell_type": "code",
   "execution_count": 7,
   "id": "e2f18f77",
   "metadata": {},
   "outputs": [
    {
     "name": "stdout",
     "output_type": "stream",
     "text": [
      "<class 'pandas.core.frame.DataFrame'>\n",
      "RangeIndex: 1000 entries, 0 to 999\n",
      "Data columns (total 10 columns):\n",
      " #   Column             Non-Null Count  Dtype  \n",
      "---  ------             --------------  -----  \n",
      " 0   Name               1000 non-null   object \n",
      " 1   Age                1000 non-null   int64  \n",
      " 2   Salary             1000 non-null   float64\n",
      " 3   Gender             1000 non-null   object \n",
      " 4   Department         1000 non-null   object \n",
      " 5   Position           1000 non-null   object \n",
      " 6   Joining Date       186 non-null    object \n",
      " 7   Performance Score  1000 non-null   object \n",
      " 8   Email              1000 non-null   object \n",
      " 9   Phone Number       809 non-null    object \n",
      "dtypes: float64(1), int64(1), object(8)\n",
      "memory usage: 78.3+ KB\n"
     ]
    }
   ],
   "source": [
    "df.info()"
   ]
  },
  {
   "cell_type": "code",
   "execution_count": 8,
   "id": "d5b163f2",
   "metadata": {},
   "outputs": [
    {
     "data": {
      "text/plain": [
       "Index(['Name', 'Age', 'Salary', 'Gender', 'Department', 'Position',\n",
       "       'Joining Date', 'Performance Score', 'Email', 'Phone Number'],\n",
       "      dtype='object')"
      ]
     },
     "execution_count": 8,
     "metadata": {},
     "output_type": "execute_result"
    }
   ],
   "source": [
    "df.columns"
   ]
  },
  {
   "cell_type": "code",
   "execution_count": 9,
   "id": "c1db10b9",
   "metadata": {},
   "outputs": [
    {
     "data": {
      "text/plain": [
       "Name                 1000\n",
       "Age                  1000\n",
       "Salary               1000\n",
       "Gender               1000\n",
       "Department           1000\n",
       "Position             1000\n",
       "Joining Date          186\n",
       "Performance Score    1000\n",
       "Email                1000\n",
       "Phone Number          809\n",
       "dtype: int64"
      ]
     },
     "execution_count": 9,
     "metadata": {},
     "output_type": "execute_result"
    }
   ],
   "source": [
    "df.count()"
   ]
  },
  {
   "cell_type": "code",
   "execution_count": 10,
   "id": "0b174a56",
   "metadata": {},
   "outputs": [
    {
     "data": {
      "text/plain": [
       "array(['HR', 'Finance', 'Sales', 'IT', 'Marketing'], dtype=object)"
      ]
     },
     "execution_count": 10,
     "metadata": {},
     "output_type": "execute_result"
    }
   ],
   "source": [
    "df['Department'].unique()"
   ]
  },
  {
   "cell_type": "code",
   "execution_count": 11,
   "id": "89c28e67",
   "metadata": {},
   "outputs": [
    {
     "data": {
      "text/plain": [
       "Name                 10\n",
       "Age                   6\n",
       "Salary                6\n",
       "Gender                3\n",
       "Department            5\n",
       "Position              5\n",
       "Joining Date          1\n",
       "Performance Score     5\n",
       "Email                 4\n",
       "Phone Number          4\n",
       "dtype: int64"
      ]
     },
     "execution_count": 11,
     "metadata": {},
     "output_type": "execute_result"
    }
   ],
   "source": [
    "df.nunique()"
   ]
  },
  {
   "cell_type": "code",
   "execution_count": 12,
   "id": "48000092",
   "metadata": {},
   "outputs": [
    {
     "data": {
      "text/plain": [
       "Name                   0\n",
       "Age                    0\n",
       "Salary                 0\n",
       "Gender                 0\n",
       "Department             0\n",
       "Position               0\n",
       "Joining Date         814\n",
       "Performance Score      0\n",
       "Email                  0\n",
       "Phone Number         191\n",
       "dtype: int64"
      ]
     },
     "execution_count": 12,
     "metadata": {},
     "output_type": "execute_result"
    }
   ],
   "source": [
    "df.isnull().sum()"
   ]
  },
  {
   "cell_type": "markdown",
   "id": "9bc7782c",
   "metadata": {},
   "source": [
    "# Data Pre-Processing"
   ]
  },
  {
   "cell_type": "code",
   "execution_count": 13,
   "id": "0a0fcf26",
   "metadata": {},
   "outputs": [
    {
     "name": "stdout",
     "output_type": "stream",
     "text": [
      "<class 'pandas.core.frame.DataFrame'>\n",
      "RangeIndex: 1000 entries, 0 to 999\n",
      "Data columns (total 10 columns):\n",
      " #   Column             Non-Null Count  Dtype  \n",
      "---  ------             --------------  -----  \n",
      " 0   Name               1000 non-null   object \n",
      " 1   Age                1000 non-null   int64  \n",
      " 2   Salary             1000 non-null   float64\n",
      " 3   Gender             1000 non-null   object \n",
      " 4   Department         1000 non-null   object \n",
      " 5   Position           1000 non-null   object \n",
      " 6   Joining Date       186 non-null    object \n",
      " 7   Performance Score  1000 non-null   object \n",
      " 8   Email              1000 non-null   object \n",
      " 9   Phone Number       809 non-null    object \n",
      "dtypes: float64(1), int64(1), object(8)\n",
      "memory usage: 78.3+ KB\n"
     ]
    }
   ],
   "source": [
    "df.info()"
   ]
  },
  {
   "cell_type": "code",
   "execution_count": 14,
   "id": "8d927b90",
   "metadata": {},
   "outputs": [
    {
     "data": {
      "text/plain": [
       "Name                   0\n",
       "Age                    0\n",
       "Salary                 0\n",
       "Gender                 0\n",
       "Department             0\n",
       "Position               0\n",
       "Joining Date         814\n",
       "Performance Score      0\n",
       "Email                  0\n",
       "Phone Number         191\n",
       "dtype: int64"
      ]
     },
     "execution_count": 14,
     "metadata": {},
     "output_type": "execute_result"
    }
   ],
   "source": [
    "df.isnull().sum()"
   ]
  },
  {
   "cell_type": "markdown",
   "id": "18aa38ad",
   "metadata": {},
   "source": [
    "# Data Pre-Processing"
   ]
  },
  {
   "cell_type": "code",
   "execution_count": 15,
   "id": "189d987f",
   "metadata": {},
   "outputs": [],
   "source": [
    "def fillNaMean(cols):\n",
    "    for i in cols:\n",
    "        df[i] = df[i].fillna(df[i].mean())\n",
    "\n",
    "columns = [ 'Age']\n",
    "fillNaMean(columns)"
   ]
  },
  {
   "cell_type": "code",
   "execution_count": 16,
   "id": "69596033",
   "metadata": {},
   "outputs": [],
   "source": [
    "def fillNaMode(cols):\n",
    "    for i in cols:\n",
    "        df[i] = df[i].fillna(df[i].mode()[0])\n",
    "\n",
    "columns = ['Email', 'Age', 'Gender', 'Joining Date', 'Performance Score', 'Phone Number']\n",
    "fillNaMode(columns)"
   ]
  },
  {
   "cell_type": "code",
   "execution_count": 17,
   "id": "b58c3106",
   "metadata": {},
   "outputs": [
    {
     "data": {
      "text/plain": [
       "Name                 0\n",
       "Age                  0\n",
       "Salary               0\n",
       "Gender               0\n",
       "Department           0\n",
       "Position             0\n",
       "Joining Date         0\n",
       "Performance Score    0\n",
       "Email                0\n",
       "Phone Number         0\n",
       "dtype: int64"
      ]
     },
     "execution_count": 17,
     "metadata": {},
     "output_type": "execute_result"
    }
   ],
   "source": [
    "df.isnull().sum()"
   ]
  },
  {
   "cell_type": "code",
   "execution_count": 18,
   "id": "eb6fc14d",
   "metadata": {},
   "outputs": [
    {
     "name": "stdout",
     "output_type": "stream",
     "text": [
      "<class 'pandas.core.frame.DataFrame'>\n",
      "RangeIndex: 1000 entries, 0 to 999\n",
      "Data columns (total 10 columns):\n",
      " #   Column             Non-Null Count  Dtype  \n",
      "---  ------             --------------  -----  \n",
      " 0   Name               1000 non-null   object \n",
      " 1   Age                1000 non-null   int64  \n",
      " 2   Salary             1000 non-null   float64\n",
      " 3   Gender             1000 non-null   object \n",
      " 4   Department         1000 non-null   object \n",
      " 5   Position           1000 non-null   object \n",
      " 6   Joining Date       1000 non-null   object \n",
      " 7   Performance Score  1000 non-null   object \n",
      " 8   Email              1000 non-null   object \n",
      " 9   Phone Number       1000 non-null   object \n",
      "dtypes: float64(1), int64(1), object(8)\n",
      "memory usage: 78.3+ KB\n"
     ]
    }
   ],
   "source": [
    "df.info()"
   ]
  },
  {
   "cell_type": "markdown",
   "id": "cd592e6c",
   "metadata": {},
   "source": [
    "### Dropping Irrelevant Columns"
   ]
  },
  {
   "cell_type": "code",
   "execution_count": 19,
   "id": "115e22f4",
   "metadata": {},
   "outputs": [],
   "source": [
    "df.drop('Name', axis=1, inplace=True)\n",
    "df.drop('Age', axis=1, inplace=True)\n",
    "df.drop('Gender', axis=1, inplace=True)\n",
    "df.drop('Joining Date', axis=1, inplace=True)\n",
    "df.drop('Performance Score', axis=1, inplace=True)\n",
    "df.drop('Phone Number', axis=1, inplace=True)"
   ]
  },
  {
   "cell_type": "code",
   "execution_count": 20,
   "id": "ba983e76",
   "metadata": {},
   "outputs": [
    {
     "name": "stdout",
     "output_type": "stream",
     "text": [
      "<class 'pandas.core.frame.DataFrame'>\n",
      "RangeIndex: 1000 entries, 0 to 999\n",
      "Data columns (total 4 columns):\n",
      " #   Column      Non-Null Count  Dtype  \n",
      "---  ------      --------------  -----  \n",
      " 0   Salary      1000 non-null   float64\n",
      " 1   Department  1000 non-null   object \n",
      " 2   Position    1000 non-null   object \n",
      " 3   Email       1000 non-null   object \n",
      "dtypes: float64(1), object(3)\n",
      "memory usage: 31.4+ KB\n"
     ]
    }
   ],
   "source": [
    "df.info()"
   ]
  },
  {
   "cell_type": "code",
   "execution_count": 21,
   "id": "c66d856c",
   "metadata": {},
   "outputs": [],
   "source": [
    "def changeFloattoInt64(cols):\n",
    "    for i in cols:\n",
    "        df[i] = df[i].astype('int64')\n",
    "\n",
    "columns = ['Salary']\n",
    "changeFloattoInt64(columns)"
   ]
  },
  {
   "cell_type": "code",
   "execution_count": 22,
   "id": "dd806165",
   "metadata": {},
   "outputs": [
    {
     "name": "stdout",
     "output_type": "stream",
     "text": [
      "<class 'pandas.core.frame.DataFrame'>\n",
      "RangeIndex: 1000 entries, 0 to 999\n",
      "Data columns (total 4 columns):\n",
      " #   Column      Non-Null Count  Dtype \n",
      "---  ------      --------------  ----- \n",
      " 0   Salary      1000 non-null   int64 \n",
      " 1   Department  1000 non-null   object\n",
      " 2   Position    1000 non-null   object\n",
      " 3   Email       1000 non-null   object\n",
      "dtypes: int64(1), object(3)\n",
      "memory usage: 31.4+ KB\n"
     ]
    }
   ],
   "source": [
    "df.info()"
   ]
  },
  {
   "cell_type": "code",
   "execution_count": 23,
   "id": "b395f9e6",
   "metadata": {},
   "outputs": [
    {
     "data": {
      "text/plain": [
       "array([50000, 65000, 60000, 60216, 70000, 55000], dtype=int64)"
      ]
     },
     "execution_count": 23,
     "metadata": {},
     "output_type": "execute_result"
    }
   ],
   "source": [
    "df['Salary'].unique()"
   ]
  },
  {
   "cell_type": "code",
   "execution_count": 24,
   "id": "74eb9789",
   "metadata": {},
   "outputs": [],
   "source": [
    "df_clean = df.copy()"
   ]
  },
  {
   "cell_type": "code",
   "execution_count": 25,
   "id": "dddd22f5",
   "metadata": {},
   "outputs": [],
   "source": [
    "def encodeCols(cols):\n",
    "    for i in cols:\n",
    "        temp = pd.DataFrame({i:df[i].unique()})\n",
    "        data_LE = LabelEncoder()\n",
    "        data_LE.fit(np.ravel(temp))\n",
    "        df_clean[i] = data_LE.transform(df[i])\n",
    "\n",
    "columns = ['Email', 'Position', 'Department']\n",
    "encodeCols(columns)"
   ]
  },
  {
   "cell_type": "code",
   "execution_count": 26,
   "id": "773a8acb",
   "metadata": {},
   "outputs": [
    {
     "data": {
      "text/html": [
       "<div>\n",
       "<style scoped>\n",
       "    .dataframe tbody tr th:only-of-type {\n",
       "        vertical-align: middle;\n",
       "    }\n",
       "\n",
       "    .dataframe tbody tr th {\n",
       "        vertical-align: top;\n",
       "    }\n",
       "\n",
       "    .dataframe thead th {\n",
       "        text-align: right;\n",
       "    }\n",
       "</style>\n",
       "<table border=\"1\" class=\"dataframe\">\n",
       "  <thead>\n",
       "    <tr style=\"text-align: right;\">\n",
       "      <th></th>\n",
       "      <th>Salary</th>\n",
       "      <th>Department</th>\n",
       "      <th>Position</th>\n",
       "      <th>Email</th>\n",
       "    </tr>\n",
       "  </thead>\n",
       "  <tbody>\n",
       "    <tr>\n",
       "      <th>0</th>\n",
       "      <td>50000</td>\n",
       "      <td>1</td>\n",
       "      <td>4</td>\n",
       "      <td>0</td>\n",
       "    </tr>\n",
       "    <tr>\n",
       "      <th>1</th>\n",
       "      <td>65000</td>\n",
       "      <td>0</td>\n",
       "      <td>3</td>\n",
       "      <td>3</td>\n",
       "    </tr>\n",
       "    <tr>\n",
       "      <th>2</th>\n",
       "      <td>60000</td>\n",
       "      <td>4</td>\n",
       "      <td>3</td>\n",
       "      <td>0</td>\n",
       "    </tr>\n",
       "    <tr>\n",
       "      <th>3</th>\n",
       "      <td>50000</td>\n",
       "      <td>2</td>\n",
       "      <td>4</td>\n",
       "      <td>1</td>\n",
       "    </tr>\n",
       "    <tr>\n",
       "      <th>4</th>\n",
       "      <td>60216</td>\n",
       "      <td>0</td>\n",
       "      <td>4</td>\n",
       "      <td>1</td>\n",
       "    </tr>\n",
       "  </tbody>\n",
       "</table>\n",
       "</div>"
      ],
      "text/plain": [
       "   Salary  Department  Position  Email\n",
       "0   50000           1         4      0\n",
       "1   65000           0         3      3\n",
       "2   60000           4         3      0\n",
       "3   50000           2         4      1\n",
       "4   60216           0         4      1"
      ]
     },
     "execution_count": 26,
     "metadata": {},
     "output_type": "execute_result"
    }
   ],
   "source": [
    "df_clean.head()"
   ]
  },
  {
   "cell_type": "code",
   "execution_count": 27,
   "id": "9b169a03",
   "metadata": {},
   "outputs": [
    {
     "name": "stdout",
     "output_type": "stream",
     "text": [
      "<class 'pandas.core.frame.DataFrame'>\n",
      "RangeIndex: 1000 entries, 0 to 999\n",
      "Data columns (total 4 columns):\n",
      " #   Column      Non-Null Count  Dtype\n",
      "---  ------      --------------  -----\n",
      " 0   Salary      1000 non-null   int64\n",
      " 1   Department  1000 non-null   int32\n",
      " 2   Position    1000 non-null   int32\n",
      " 3   Email       1000 non-null   int32\n",
      "dtypes: int32(3), int64(1)\n",
      "memory usage: 19.7 KB\n"
     ]
    }
   ],
   "source": [
    "df_clean.info()"
   ]
  },
  {
   "cell_type": "code",
   "execution_count": 28,
   "id": "3b7cfb5a",
   "metadata": {},
   "outputs": [],
   "source": [
    "df_clean.to_csv(r'cleaned-data.csv', index=False, header=True)"
   ]
  },
  {
   "cell_type": "code",
   "execution_count": 29,
   "id": "a12e1d81",
   "metadata": {},
   "outputs": [
    {
     "data": {
      "text/html": [
       "<div>\n",
       "<style scoped>\n",
       "    .dataframe tbody tr th:only-of-type {\n",
       "        vertical-align: middle;\n",
       "    }\n",
       "\n",
       "    .dataframe tbody tr th {\n",
       "        vertical-align: top;\n",
       "    }\n",
       "\n",
       "    .dataframe thead th {\n",
       "        text-align: right;\n",
       "    }\n",
       "</style>\n",
       "<table border=\"1\" class=\"dataframe\">\n",
       "  <thead>\n",
       "    <tr style=\"text-align: right;\">\n",
       "      <th></th>\n",
       "      <th>Salary</th>\n",
       "      <th>Department</th>\n",
       "      <th>Position</th>\n",
       "      <th>Email</th>\n",
       "    </tr>\n",
       "  </thead>\n",
       "  <tbody>\n",
       "    <tr>\n",
       "      <th>0</th>\n",
       "      <td>50000</td>\n",
       "      <td>1</td>\n",
       "      <td>4</td>\n",
       "      <td>0</td>\n",
       "    </tr>\n",
       "    <tr>\n",
       "      <th>1</th>\n",
       "      <td>65000</td>\n",
       "      <td>0</td>\n",
       "      <td>3</td>\n",
       "      <td>3</td>\n",
       "    </tr>\n",
       "  </tbody>\n",
       "</table>\n",
       "</div>"
      ],
      "text/plain": [
       "   Salary  Department  Position  Email\n",
       "0   50000           1         4      0\n",
       "1   65000           0         3      3"
      ]
     },
     "execution_count": 29,
     "metadata": {},
     "output_type": "execute_result"
    }
   ],
   "source": [
    "df_clean.head(2)"
   ]
  },
  {
   "cell_type": "code",
   "execution_count": null,
   "id": "6683e108",
   "metadata": {},
   "outputs": [],
   "source": []
  }
 ],
 "metadata": {
  "kernelspec": {
   "display_name": "base",
   "language": "python",
   "name": "python3"
  },
  "language_info": {
   "codemirror_mode": {
    "name": "ipython",
    "version": 3
   },
   "file_extension": ".py",
   "mimetype": "text/x-python",
   "name": "python",
   "nbconvert_exporter": "python",
   "pygments_lexer": "ipython3",
   "version": "3.12.7"
  }
 },
 "nbformat": 4,
 "nbformat_minor": 5
}
