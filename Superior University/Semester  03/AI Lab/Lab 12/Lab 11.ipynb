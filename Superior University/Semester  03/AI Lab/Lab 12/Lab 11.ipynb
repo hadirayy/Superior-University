{
 "cells": [
  {
   "cell_type": "code",
   "execution_count": 1,
   "id": "07930c92",
   "metadata": {},
   "outputs": [],
   "source": [
    "import pandas as pd\n",
    "import numpy as np\n",
    "\n",
    "from sklearn.preprocessing import LabelEncoder\n",
    "from sklearn.model_selection import train_test_split"
   ]
  },
  {
   "cell_type": "markdown",
   "id": "397372ce",
   "metadata": {},
   "source": [
    "# Data Loading"
   ]
  },
  {
   "cell_type": "code",
   "execution_count": 2,
   "id": "aac6a483",
   "metadata": {},
   "outputs": [
    {
     "name": "stdout",
     "output_type": "stream",
     "text": [
      "       Name  Age        Salary  Gender Department   Position Joining Date  \\\n",
      "0     grace   25  50000.000000    Male         HR    Manager   2018-04-05   \n",
      "1     david    0  65000.000000  Female    Finance   Director          NaN   \n",
      "2    hannah   35  60000.000000  Female      Sales   Director          NaN   \n",
      "3       eve    0  50000.000000  Female         IT    Manager   2018-04-05   \n",
      "4     grace    0  60216.086435  Female    Finance    Manager          NaN   \n",
      "..      ...  ...           ...     ...        ...        ...          ...   \n",
      "995    jack   50  65000.000000  Female         HR    Manager          NaN   \n",
      "996    jack   30  50000.000000    Male    Finance    Analyst   2018-04-05   \n",
      "997  hannah   30  70000.000000    Male         IT  Assistant          NaN   \n",
      "998     bob   25  65000.000000   Other  Marketing    Manager   2018-04-05   \n",
      "999     ivy   30  60000.000000    Male    Finance    Manager          NaN   \n",
      "\n",
      "    Performance Score                 Email  Phone Number  \n",
      "0                   D     email@example.com  000-000-0000  \n",
      "1                   F       user@domain.com  123-456-7890  \n",
      "2                   C     email@example.com  098-765-4321  \n",
      "3                   A      name@company.org           NaN  \n",
      "4                   F      name@company.org  098-765-4321  \n",
      "..                ...                   ...           ...  \n",
      "995                 F  no_email@example.com  098-765-4321  \n",
      "996                 C  no_email@example.com  555-555-5555  \n",
      "997                 D       user@domain.com  000-000-0000  \n",
      "998                 D     email@example.com  000-000-0000  \n",
      "999                 C       user@domain.com  123-456-7890  \n",
      "\n",
      "[1000 rows x 10 columns]\n"
     ]
    }
   ],
   "source": [
    "df=pd.read_csv(\"cleaned_messy_HR_data.csv\")\n",
    "print(df)"
   ]
  },
  {
   "cell_type": "markdown",
   "id": "052337a5",
   "metadata": {},
   "source": [
    "# Data Exploration"
   ]
  },
  {
   "cell_type": "code",
   "execution_count": 3,
   "id": "3fcf0158",
   "metadata": {},
   "outputs": [
    {
     "name": "stdout",
     "output_type": "stream",
     "text": [
      "Number of Rows:1000\n",
      " Number of coloum:10\n"
     ]
    }
   ],
   "source": [
    "print(f\"Number of Rows:{df.shape[0]}\\n Number of coloum:{df.shape[1]}\")"
   ]
  },
  {
   "cell_type": "code",
   "execution_count": 4,
   "id": "970b5140",
   "metadata": {},
   "outputs": [
    {
     "data": {
      "application/vnd.microsoft.datawrangler.viewer.v0+json": {
       "columns": [
        {
         "name": "index",
         "rawType": "int64",
         "type": "integer"
        },
        {
         "name": "Name",
         "rawType": "object",
         "type": "string"
        },
        {
         "name": "Age",
         "rawType": "int64",
         "type": "integer"
        },
        {
         "name": "Salary",
         "rawType": "float64",
         "type": "float"
        },
        {
         "name": "Gender",
         "rawType": "object",
         "type": "string"
        },
        {
         "name": "Department",
         "rawType": "object",
         "type": "string"
        },
        {
         "name": "Position",
         "rawType": "object",
         "type": "string"
        },
        {
         "name": "Joining Date",
         "rawType": "object",
         "type": "unknown"
        },
        {
         "name": "Performance Score",
         "rawType": "object",
         "type": "string"
        },
        {
         "name": "Email",
         "rawType": "object",
         "type": "string"
        },
        {
         "name": "Phone Number",
         "rawType": "object",
         "type": "unknown"
        }
       ],
       "conversionMethod": "pd.DataFrame",
       "ref": "b1fc16b1-2fb4-4eb8-88ce-e97727deb1dc",
       "rows": [
        [
         "0",
         "grace",
         "25",
         "50000.0",
         "Male",
         "HR",
         "Manager",
         "2018-04-05",
         "D",
         "email@example.com",
         "000-000-0000"
        ],
        [
         "1",
         "david",
         "0",
         "65000.0",
         "Female",
         "Finance",
         "Director",
         null,
         "F",
         "user@domain.com",
         "123-456-7890"
        ],
        [
         "2",
         "hannah",
         "35",
         "60000.0",
         "Female",
         "Sales",
         "Director",
         null,
         "C",
         "email@example.com",
         "098-765-4321"
        ],
        [
         "3",
         "eve",
         "0",
         "50000.0",
         "Female",
         "IT",
         "Manager",
         "2018-04-05",
         "A",
         "name@company.org",
         null
        ],
        [
         "4",
         "grace",
         "0",
         "60216.08643457383",
         "Female",
         "Finance",
         "Manager",
         null,
         "F",
         "name@company.org",
         "098-765-4321"
        ],
        [
         "5",
         "jack",
         "0",
         "65000.0",
         "Other",
         "Marketing",
         "Director",
         null,
         "F",
         "user@domain.com",
         "000-000-0000"
        ],
        [
         "6",
         "charlie",
         "0",
         "50000.0",
         "Male",
         "Marketing",
         "Clerk",
         null,
         "B",
         "no_email@example.com",
         "123-456-7890"
        ],
        [
         "7",
         "grace",
         "40",
         "50000.0",
         "Other",
         "HR",
         "Director",
         null,
         "C",
         "no_email@example.com",
         null
        ],
        [
         "8",
         "hannah",
         "40",
         "60000.0",
         "Female",
         "Marketing",
         "Manager",
         null,
         "C",
         "user@domain.com",
         "123-456-7890"
        ],
        [
         "9",
         "eve",
         "30",
         "60216.08643457383",
         "Other",
         "Finance",
         "Assistant",
         null,
         "A",
         "no_email@example.com",
         null
        ]
       ],
       "shape": {
        "columns": 10,
        "rows": 10
       }
      },
      "text/html": [
       "<div>\n",
       "<style scoped>\n",
       "    .dataframe tbody tr th:only-of-type {\n",
       "        vertical-align: middle;\n",
       "    }\n",
       "\n",
       "    .dataframe tbody tr th {\n",
       "        vertical-align: top;\n",
       "    }\n",
       "\n",
       "    .dataframe thead th {\n",
       "        text-align: right;\n",
       "    }\n",
       "</style>\n",
       "<table border=\"1\" class=\"dataframe\">\n",
       "  <thead>\n",
       "    <tr style=\"text-align: right;\">\n",
       "      <th></th>\n",
       "      <th>Name</th>\n",
       "      <th>Age</th>\n",
       "      <th>Salary</th>\n",
       "      <th>Gender</th>\n",
       "      <th>Department</th>\n",
       "      <th>Position</th>\n",
       "      <th>Joining Date</th>\n",
       "      <th>Performance Score</th>\n",
       "      <th>Email</th>\n",
       "      <th>Phone Number</th>\n",
       "    </tr>\n",
       "  </thead>\n",
       "  <tbody>\n",
       "    <tr>\n",
       "      <th>0</th>\n",
       "      <td>grace</td>\n",
       "      <td>25</td>\n",
       "      <td>50000.000000</td>\n",
       "      <td>Male</td>\n",
       "      <td>HR</td>\n",
       "      <td>Manager</td>\n",
       "      <td>2018-04-05</td>\n",
       "      <td>D</td>\n",
       "      <td>email@example.com</td>\n",
       "      <td>000-000-0000</td>\n",
       "    </tr>\n",
       "    <tr>\n",
       "      <th>1</th>\n",
       "      <td>david</td>\n",
       "      <td>0</td>\n",
       "      <td>65000.000000</td>\n",
       "      <td>Female</td>\n",
       "      <td>Finance</td>\n",
       "      <td>Director</td>\n",
       "      <td>NaN</td>\n",
       "      <td>F</td>\n",
       "      <td>user@domain.com</td>\n",
       "      <td>123-456-7890</td>\n",
       "    </tr>\n",
       "    <tr>\n",
       "      <th>2</th>\n",
       "      <td>hannah</td>\n",
       "      <td>35</td>\n",
       "      <td>60000.000000</td>\n",
       "      <td>Female</td>\n",
       "      <td>Sales</td>\n",
       "      <td>Director</td>\n",
       "      <td>NaN</td>\n",
       "      <td>C</td>\n",
       "      <td>email@example.com</td>\n",
       "      <td>098-765-4321</td>\n",
       "    </tr>\n",
       "    <tr>\n",
       "      <th>3</th>\n",
       "      <td>eve</td>\n",
       "      <td>0</td>\n",
       "      <td>50000.000000</td>\n",
       "      <td>Female</td>\n",
       "      <td>IT</td>\n",
       "      <td>Manager</td>\n",
       "      <td>2018-04-05</td>\n",
       "      <td>A</td>\n",
       "      <td>name@company.org</td>\n",
       "      <td>NaN</td>\n",
       "    </tr>\n",
       "    <tr>\n",
       "      <th>4</th>\n",
       "      <td>grace</td>\n",
       "      <td>0</td>\n",
       "      <td>60216.086435</td>\n",
       "      <td>Female</td>\n",
       "      <td>Finance</td>\n",
       "      <td>Manager</td>\n",
       "      <td>NaN</td>\n",
       "      <td>F</td>\n",
       "      <td>name@company.org</td>\n",
       "      <td>098-765-4321</td>\n",
       "    </tr>\n",
       "    <tr>\n",
       "      <th>5</th>\n",
       "      <td>jack</td>\n",
       "      <td>0</td>\n",
       "      <td>65000.000000</td>\n",
       "      <td>Other</td>\n",
       "      <td>Marketing</td>\n",
       "      <td>Director</td>\n",
       "      <td>NaN</td>\n",
       "      <td>F</td>\n",
       "      <td>user@domain.com</td>\n",
       "      <td>000-000-0000</td>\n",
       "    </tr>\n",
       "    <tr>\n",
       "      <th>6</th>\n",
       "      <td>charlie</td>\n",
       "      <td>0</td>\n",
       "      <td>50000.000000</td>\n",
       "      <td>Male</td>\n",
       "      <td>Marketing</td>\n",
       "      <td>Clerk</td>\n",
       "      <td>NaN</td>\n",
       "      <td>B</td>\n",
       "      <td>no_email@example.com</td>\n",
       "      <td>123-456-7890</td>\n",
       "    </tr>\n",
       "    <tr>\n",
       "      <th>7</th>\n",
       "      <td>grace</td>\n",
       "      <td>40</td>\n",
       "      <td>50000.000000</td>\n",
       "      <td>Other</td>\n",
       "      <td>HR</td>\n",
       "      <td>Director</td>\n",
       "      <td>NaN</td>\n",
       "      <td>C</td>\n",
       "      <td>no_email@example.com</td>\n",
       "      <td>NaN</td>\n",
       "    </tr>\n",
       "    <tr>\n",
       "      <th>8</th>\n",
       "      <td>hannah</td>\n",
       "      <td>40</td>\n",
       "      <td>60000.000000</td>\n",
       "      <td>Female</td>\n",
       "      <td>Marketing</td>\n",
       "      <td>Manager</td>\n",
       "      <td>NaN</td>\n",
       "      <td>C</td>\n",
       "      <td>user@domain.com</td>\n",
       "      <td>123-456-7890</td>\n",
       "    </tr>\n",
       "    <tr>\n",
       "      <th>9</th>\n",
       "      <td>eve</td>\n",
       "      <td>30</td>\n",
       "      <td>60216.086435</td>\n",
       "      <td>Other</td>\n",
       "      <td>Finance</td>\n",
       "      <td>Assistant</td>\n",
       "      <td>NaN</td>\n",
       "      <td>A</td>\n",
       "      <td>no_email@example.com</td>\n",
       "      <td>NaN</td>\n",
       "    </tr>\n",
       "  </tbody>\n",
       "</table>\n",
       "</div>"
      ],
      "text/plain": [
       "      Name  Age        Salary  Gender Department   Position Joining Date  \\\n",
       "0    grace   25  50000.000000    Male         HR    Manager   2018-04-05   \n",
       "1    david    0  65000.000000  Female    Finance   Director          NaN   \n",
       "2   hannah   35  60000.000000  Female      Sales   Director          NaN   \n",
       "3      eve    0  50000.000000  Female         IT    Manager   2018-04-05   \n",
       "4    grace    0  60216.086435  Female    Finance    Manager          NaN   \n",
       "5     jack    0  65000.000000   Other  Marketing   Director          NaN   \n",
       "6  charlie    0  50000.000000    Male  Marketing      Clerk          NaN   \n",
       "7    grace   40  50000.000000   Other         HR   Director          NaN   \n",
       "8   hannah   40  60000.000000  Female  Marketing    Manager          NaN   \n",
       "9      eve   30  60216.086435   Other    Finance  Assistant          NaN   \n",
       "\n",
       "  Performance Score                 Email  Phone Number  \n",
       "0                 D     email@example.com  000-000-0000  \n",
       "1                 F       user@domain.com  123-456-7890  \n",
       "2                 C     email@example.com  098-765-4321  \n",
       "3                 A      name@company.org           NaN  \n",
       "4                 F      name@company.org  098-765-4321  \n",
       "5                 F       user@domain.com  000-000-0000  \n",
       "6                 B  no_email@example.com  123-456-7890  \n",
       "7                 C  no_email@example.com           NaN  \n",
       "8                 C       user@domain.com  123-456-7890  \n",
       "9                 A  no_email@example.com           NaN  "
      ]
     },
     "execution_count": 4,
     "metadata": {},
     "output_type": "execute_result"
    }
   ],
   "source": [
    "df.head(10)"
   ]
  },
  {
   "cell_type": "code",
   "execution_count": 5,
   "id": "24bb4810",
   "metadata": {},
   "outputs": [
    {
     "data": {
      "application/vnd.microsoft.datawrangler.viewer.v0+json": {
       "columns": [
        {
         "name": "index",
         "rawType": "int64",
         "type": "integer"
        },
        {
         "name": "Name",
         "rawType": "object",
         "type": "string"
        },
        {
         "name": "Age",
         "rawType": "int64",
         "type": "integer"
        },
        {
         "name": "Salary",
         "rawType": "float64",
         "type": "float"
        },
        {
         "name": "Gender",
         "rawType": "object",
         "type": "string"
        },
        {
         "name": "Department",
         "rawType": "object",
         "type": "string"
        },
        {
         "name": "Position",
         "rawType": "object",
         "type": "string"
        },
        {
         "name": "Joining Date",
         "rawType": "object",
         "type": "unknown"
        },
        {
         "name": "Performance Score",
         "rawType": "object",
         "type": "string"
        },
        {
         "name": "Email",
         "rawType": "object",
         "type": "string"
        },
        {
         "name": "Phone Number",
         "rawType": "object",
         "type": "string"
        }
       ],
       "conversionMethod": "pd.DataFrame",
       "ref": "2ec51efc-312e-4f7a-ac61-78efba8a05f9",
       "rows": [
        [
         "998",
         "bob",
         "25",
         "65000.0",
         "Other",
         "Marketing",
         "Manager",
         "2018-04-05",
         "D",
         "email@example.com",
         "000-000-0000"
        ],
        [
         "999",
         "ivy",
         "30",
         "60000.0",
         "Male",
         "Finance",
         "Manager",
         null,
         "C",
         "user@domain.com",
         "123-456-7890"
        ]
       ],
       "shape": {
        "columns": 10,
        "rows": 2
       }
      },
      "text/html": [
       "<div>\n",
       "<style scoped>\n",
       "    .dataframe tbody tr th:only-of-type {\n",
       "        vertical-align: middle;\n",
       "    }\n",
       "\n",
       "    .dataframe tbody tr th {\n",
       "        vertical-align: top;\n",
       "    }\n",
       "\n",
       "    .dataframe thead th {\n",
       "        text-align: right;\n",
       "    }\n",
       "</style>\n",
       "<table border=\"1\" class=\"dataframe\">\n",
       "  <thead>\n",
       "    <tr style=\"text-align: right;\">\n",
       "      <th></th>\n",
       "      <th>Name</th>\n",
       "      <th>Age</th>\n",
       "      <th>Salary</th>\n",
       "      <th>Gender</th>\n",
       "      <th>Department</th>\n",
       "      <th>Position</th>\n",
       "      <th>Joining Date</th>\n",
       "      <th>Performance Score</th>\n",
       "      <th>Email</th>\n",
       "      <th>Phone Number</th>\n",
       "    </tr>\n",
       "  </thead>\n",
       "  <tbody>\n",
       "    <tr>\n",
       "      <th>998</th>\n",
       "      <td>bob</td>\n",
       "      <td>25</td>\n",
       "      <td>65000.0</td>\n",
       "      <td>Other</td>\n",
       "      <td>Marketing</td>\n",
       "      <td>Manager</td>\n",
       "      <td>2018-04-05</td>\n",
       "      <td>D</td>\n",
       "      <td>email@example.com</td>\n",
       "      <td>000-000-0000</td>\n",
       "    </tr>\n",
       "    <tr>\n",
       "      <th>999</th>\n",
       "      <td>ivy</td>\n",
       "      <td>30</td>\n",
       "      <td>60000.0</td>\n",
       "      <td>Male</td>\n",
       "      <td>Finance</td>\n",
       "      <td>Manager</td>\n",
       "      <td>NaN</td>\n",
       "      <td>C</td>\n",
       "      <td>user@domain.com</td>\n",
       "      <td>123-456-7890</td>\n",
       "    </tr>\n",
       "  </tbody>\n",
       "</table>\n",
       "</div>"
      ],
      "text/plain": [
       "    Name  Age   Salary Gender Department Position Joining Date  \\\n",
       "998  bob   25  65000.0  Other  Marketing  Manager   2018-04-05   \n",
       "999  ivy   30  60000.0   Male    Finance  Manager          NaN   \n",
       "\n",
       "    Performance Score              Email  Phone Number  \n",
       "998                 D  email@example.com  000-000-0000  \n",
       "999                 C    user@domain.com  123-456-7890  "
      ]
     },
     "execution_count": 5,
     "metadata": {},
     "output_type": "execute_result"
    }
   ],
   "source": [
    "df.tail(2)"
   ]
  },
  {
   "cell_type": "code",
   "execution_count": 6,
   "id": "aec29646",
   "metadata": {},
   "outputs": [
    {
     "data": {
      "application/vnd.microsoft.datawrangler.viewer.v0+json": {
       "columns": [
        {
         "name": "index",
         "rawType": "object",
         "type": "string"
        },
        {
         "name": "Age",
         "rawType": "float64",
         "type": "float"
        },
        {
         "name": "Salary",
         "rawType": "float64",
         "type": "float"
        }
       ],
       "conversionMethod": "pd.DataFrame",
       "ref": "a8ae4b00-49bb-494a-b13b-f4738b2f729d",
       "rows": [
        [
         "count",
         "1000.0",
         "1000.0"
        ],
        [
         "mean",
         "30.11",
         "60216.08643457383"
        ],
        [
         "std",
         "15.266662076923364",
         "6504.106998629891"
        ],
        [
         "min",
         "0.0",
         "50000.0"
        ],
        [
         "25%",
         "25.0",
         "55000.0"
        ],
        [
         "50%",
         "30.0",
         "60216.08643457383"
        ],
        [
         "75%",
         "40.0",
         "65000.0"
        ],
        [
         "max",
         "50.0",
         "70000.0"
        ]
       ],
       "shape": {
        "columns": 2,
        "rows": 8
       }
      },
      "text/html": [
       "<div>\n",
       "<style scoped>\n",
       "    .dataframe tbody tr th:only-of-type {\n",
       "        vertical-align: middle;\n",
       "    }\n",
       "\n",
       "    .dataframe tbody tr th {\n",
       "        vertical-align: top;\n",
       "    }\n",
       "\n",
       "    .dataframe thead th {\n",
       "        text-align: right;\n",
       "    }\n",
       "</style>\n",
       "<table border=\"1\" class=\"dataframe\">\n",
       "  <thead>\n",
       "    <tr style=\"text-align: right;\">\n",
       "      <th></th>\n",
       "      <th>Age</th>\n",
       "      <th>Salary</th>\n",
       "    </tr>\n",
       "  </thead>\n",
       "  <tbody>\n",
       "    <tr>\n",
       "      <th>count</th>\n",
       "      <td>1000.000000</td>\n",
       "      <td>1000.000000</td>\n",
       "    </tr>\n",
       "    <tr>\n",
       "      <th>mean</th>\n",
       "      <td>30.110000</td>\n",
       "      <td>60216.086435</td>\n",
       "    </tr>\n",
       "    <tr>\n",
       "      <th>std</th>\n",
       "      <td>15.266662</td>\n",
       "      <td>6504.106999</td>\n",
       "    </tr>\n",
       "    <tr>\n",
       "      <th>min</th>\n",
       "      <td>0.000000</td>\n",
       "      <td>50000.000000</td>\n",
       "    </tr>\n",
       "    <tr>\n",
       "      <th>25%</th>\n",
       "      <td>25.000000</td>\n",
       "      <td>55000.000000</td>\n",
       "    </tr>\n",
       "    <tr>\n",
       "      <th>50%</th>\n",
       "      <td>30.000000</td>\n",
       "      <td>60216.086435</td>\n",
       "    </tr>\n",
       "    <tr>\n",
       "      <th>75%</th>\n",
       "      <td>40.000000</td>\n",
       "      <td>65000.000000</td>\n",
       "    </tr>\n",
       "    <tr>\n",
       "      <th>max</th>\n",
       "      <td>50.000000</td>\n",
       "      <td>70000.000000</td>\n",
       "    </tr>\n",
       "  </tbody>\n",
       "</table>\n",
       "</div>"
      ],
      "text/plain": [
       "               Age        Salary\n",
       "count  1000.000000   1000.000000\n",
       "mean     30.110000  60216.086435\n",
       "std      15.266662   6504.106999\n",
       "min       0.000000  50000.000000\n",
       "25%      25.000000  55000.000000\n",
       "50%      30.000000  60216.086435\n",
       "75%      40.000000  65000.000000\n",
       "max      50.000000  70000.000000"
      ]
     },
     "execution_count": 6,
     "metadata": {},
     "output_type": "execute_result"
    }
   ],
   "source": [
    "df.describe()"
   ]
  },
  {
   "cell_type": "code",
   "execution_count": 7,
   "id": "d489c560",
   "metadata": {},
   "outputs": [
    {
     "name": "stdout",
     "output_type": "stream",
     "text": [
      "<class 'pandas.core.frame.DataFrame'>\n",
      "RangeIndex: 1000 entries, 0 to 999\n",
      "Data columns (total 10 columns):\n",
      " #   Column             Non-Null Count  Dtype  \n",
      "---  ------             --------------  -----  \n",
      " 0   Name               1000 non-null   object \n",
      " 1   Age                1000 non-null   int64  \n",
      " 2   Salary             1000 non-null   float64\n",
      " 3   Gender             1000 non-null   object \n",
      " 4   Department         1000 non-null   object \n",
      " 5   Position           1000 non-null   object \n",
      " 6   Joining Date       186 non-null    object \n",
      " 7   Performance Score  1000 non-null   object \n",
      " 8   Email              1000 non-null   object \n",
      " 9   Phone Number       809 non-null    object \n",
      "dtypes: float64(1), int64(1), object(8)\n",
      "memory usage: 78.3+ KB\n"
     ]
    }
   ],
   "source": [
    "df.info()"
   ]
  },
  {
   "cell_type": "code",
   "execution_count": 8,
   "id": "d4f6ba5b",
   "metadata": {},
   "outputs": [
    {
     "data": {
      "text/plain": [
       "Index(['Name', 'Age', 'Salary', 'Gender', 'Department', 'Position',\n",
       "       'Joining Date', 'Performance Score', 'Email', 'Phone Number'],\n",
       "      dtype='object')"
      ]
     },
     "execution_count": 8,
     "metadata": {},
     "output_type": "execute_result"
    }
   ],
   "source": [
    "df.columns"
   ]
  },
  {
   "cell_type": "code",
   "execution_count": 9,
   "id": "ffa39364",
   "metadata": {},
   "outputs": [
    {
     "data": {
      "text/plain": [
       "Name                 1000\n",
       "Age                  1000\n",
       "Salary               1000\n",
       "Gender               1000\n",
       "Department           1000\n",
       "Position             1000\n",
       "Joining Date          186\n",
       "Performance Score    1000\n",
       "Email                1000\n",
       "Phone Number          809\n",
       "dtype: int64"
      ]
     },
     "execution_count": 9,
     "metadata": {},
     "output_type": "execute_result"
    }
   ],
   "source": [
    "df.count()"
   ]
  },
  {
   "cell_type": "code",
   "execution_count": 10,
   "id": "fcaa8e9b",
   "metadata": {},
   "outputs": [
    {
     "data": {
      "text/plain": [
       "array(['HR', 'Finance', 'Sales', 'IT', 'Marketing'], dtype=object)"
      ]
     },
     "execution_count": 10,
     "metadata": {},
     "output_type": "execute_result"
    }
   ],
   "source": [
    "df['Department'].unique()"
   ]
  },
  {
   "cell_type": "code",
   "execution_count": 11,
   "id": "49e8b264",
   "metadata": {},
   "outputs": [
    {
     "data": {
      "text/plain": [
       "Name                 10\n",
       "Age                   6\n",
       "Salary                6\n",
       "Gender                3\n",
       "Department            5\n",
       "Position              5\n",
       "Joining Date          1\n",
       "Performance Score     5\n",
       "Email                 4\n",
       "Phone Number          4\n",
       "dtype: int64"
      ]
     },
     "execution_count": 11,
     "metadata": {},
     "output_type": "execute_result"
    }
   ],
   "source": [
    "df.nunique()"
   ]
  },
  {
   "cell_type": "code",
   "execution_count": 12,
   "id": "f471dc86",
   "metadata": {},
   "outputs": [
    {
     "data": {
      "text/plain": [
       "Name                   0\n",
       "Age                    0\n",
       "Salary                 0\n",
       "Gender                 0\n",
       "Department             0\n",
       "Position               0\n",
       "Joining Date         814\n",
       "Performance Score      0\n",
       "Email                  0\n",
       "Phone Number         191\n",
       "dtype: int64"
      ]
     },
     "execution_count": 12,
     "metadata": {},
     "output_type": "execute_result"
    }
   ],
   "source": [
    "df.isnull().sum()"
   ]
  },
  {
   "cell_type": "markdown",
   "id": "09fbd727",
   "metadata": {},
   "source": [
    "# Data Pre-Processing"
   ]
  },
  {
   "cell_type": "code",
   "execution_count": 13,
   "id": "d0240266",
   "metadata": {},
   "outputs": [
    {
     "name": "stdout",
     "output_type": "stream",
     "text": [
      "<class 'pandas.core.frame.DataFrame'>\n",
      "RangeIndex: 1000 entries, 0 to 999\n",
      "Data columns (total 10 columns):\n",
      " #   Column             Non-Null Count  Dtype  \n",
      "---  ------             --------------  -----  \n",
      " 0   Name               1000 non-null   object \n",
      " 1   Age                1000 non-null   int64  \n",
      " 2   Salary             1000 non-null   float64\n",
      " 3   Gender             1000 non-null   object \n",
      " 4   Department         1000 non-null   object \n",
      " 5   Position           1000 non-null   object \n",
      " 6   Joining Date       186 non-null    object \n",
      " 7   Performance Score  1000 non-null   object \n",
      " 8   Email              1000 non-null   object \n",
      " 9   Phone Number       809 non-null    object \n",
      "dtypes: float64(1), int64(1), object(8)\n",
      "memory usage: 78.3+ KB\n"
     ]
    }
   ],
   "source": [
    "df.info()"
   ]
  },
  {
   "cell_type": "code",
   "execution_count": 14,
   "id": "969573aa",
   "metadata": {},
   "outputs": [
    {
     "data": {
      "text/plain": [
       "Name                   0\n",
       "Age                    0\n",
       "Salary                 0\n",
       "Gender                 0\n",
       "Department             0\n",
       "Position               0\n",
       "Joining Date         814\n",
       "Performance Score      0\n",
       "Email                  0\n",
       "Phone Number         191\n",
       "dtype: int64"
      ]
     },
     "execution_count": 14,
     "metadata": {},
     "output_type": "execute_result"
    }
   ],
   "source": [
    "df.isnull().sum()"
   ]
  },
  {
   "cell_type": "markdown",
   "id": "7637ebb3",
   "metadata": {},
   "source": [
    "# Dealing with null values"
   ]
  },
  {
   "cell_type": "code",
   "execution_count": 15,
   "id": "e849eb74",
   "metadata": {},
   "outputs": [],
   "source": [
    "def fillNaMean(cols):\n",
    "    for i in cols:\n",
    "        df[i] = df[i].fillna(df[i].mean())\n",
    "\n",
    "columns = [ 'Age']\n",
    "fillNaMean(columns)"
   ]
  },
  {
   "cell_type": "code",
   "execution_count": 16,
   "id": "bea58a10",
   "metadata": {},
   "outputs": [],
   "source": [
    "def fillNaMode(cols):\n",
    "    for i in cols:\n",
    "        df[i] = df[i].fillna(df[i].mode()[0])\n",
    "\n",
    "columns = ['Email', 'Age', 'Gender', 'Joining Date', 'Performance Score', 'Phone Number']\n",
    "fillNaMode(columns)"
   ]
  },
  {
   "cell_type": "code",
   "execution_count": 17,
   "id": "80753dec",
   "metadata": {},
   "outputs": [
    {
     "data": {
      "text/plain": [
       "Name                 0\n",
       "Age                  0\n",
       "Salary               0\n",
       "Gender               0\n",
       "Department           0\n",
       "Position             0\n",
       "Joining Date         0\n",
       "Performance Score    0\n",
       "Email                0\n",
       "Phone Number         0\n",
       "dtype: int64"
      ]
     },
     "execution_count": 17,
     "metadata": {},
     "output_type": "execute_result"
    }
   ],
   "source": [
    "df.isnull().sum()"
   ]
  },
  {
   "cell_type": "code",
   "execution_count": 18,
   "id": "e8d5f25f",
   "metadata": {},
   "outputs": [
    {
     "name": "stdout",
     "output_type": "stream",
     "text": [
      "<class 'pandas.core.frame.DataFrame'>\n",
      "RangeIndex: 1000 entries, 0 to 999\n",
      "Data columns (total 10 columns):\n",
      " #   Column             Non-Null Count  Dtype  \n",
      "---  ------             --------------  -----  \n",
      " 0   Name               1000 non-null   object \n",
      " 1   Age                1000 non-null   int64  \n",
      " 2   Salary             1000 non-null   float64\n",
      " 3   Gender             1000 non-null   object \n",
      " 4   Department         1000 non-null   object \n",
      " 5   Position           1000 non-null   object \n",
      " 6   Joining Date       1000 non-null   object \n",
      " 7   Performance Score  1000 non-null   object \n",
      " 8   Email              1000 non-null   object \n",
      " 9   Phone Number       1000 non-null   object \n",
      "dtypes: float64(1), int64(1), object(8)\n",
      "memory usage: 78.3+ KB\n"
     ]
    }
   ],
   "source": [
    "df.info()"
   ]
  },
  {
   "cell_type": "markdown",
   "id": "dec08ff9",
   "metadata": {},
   "source": [
    "### Dropping Irrelevant Columns"
   ]
  },
  {
   "cell_type": "code",
   "execution_count": 19,
   "id": "09ba35fe",
   "metadata": {},
   "outputs": [],
   "source": [
    "df.drop('Name', axis=1, inplace=True)\n",
    "df.drop('Age', axis=1, inplace=True)\n",
    "df.drop('Gender', axis=1, inplace=True)\n",
    "df.drop('Joining Date', axis=1, inplace=True)\n",
    "df.drop('Performance Score', axis=1, inplace=True)\n",
    "df.drop('Phone Number', axis=1, inplace=True)"
   ]
  },
  {
   "cell_type": "code",
   "execution_count": 20,
   "id": "05a45d7c",
   "metadata": {},
   "outputs": [
    {
     "name": "stdout",
     "output_type": "stream",
     "text": [
      "<class 'pandas.core.frame.DataFrame'>\n",
      "RangeIndex: 1000 entries, 0 to 999\n",
      "Data columns (total 4 columns):\n",
      " #   Column      Non-Null Count  Dtype  \n",
      "---  ------      --------------  -----  \n",
      " 0   Salary      1000 non-null   float64\n",
      " 1   Department  1000 non-null   object \n",
      " 2   Position    1000 non-null   object \n",
      " 3   Email       1000 non-null   object \n",
      "dtypes: float64(1), object(3)\n",
      "memory usage: 31.4+ KB\n"
     ]
    }
   ],
   "source": [
    "df.info()"
   ]
  },
  {
   "cell_type": "code",
   "execution_count": 21,
   "id": "2d892ba5",
   "metadata": {},
   "outputs": [],
   "source": [
    "def changeFloattoInt64(cols):\n",
    "    for i in cols:\n",
    "        df[i] = df[i].astype('int64')\n",
    "\n",
    "columns = ['Salary']\n",
    "changeFloattoInt64(columns)"
   ]
  },
  {
   "cell_type": "code",
   "execution_count": 22,
   "id": "ad86e9d7",
   "metadata": {},
   "outputs": [
    {
     "name": "stdout",
     "output_type": "stream",
     "text": [
      "<class 'pandas.core.frame.DataFrame'>\n",
      "RangeIndex: 1000 entries, 0 to 999\n",
      "Data columns (total 4 columns):\n",
      " #   Column      Non-Null Count  Dtype \n",
      "---  ------      --------------  ----- \n",
      " 0   Salary      1000 non-null   int64 \n",
      " 1   Department  1000 non-null   object\n",
      " 2   Position    1000 non-null   object\n",
      " 3   Email       1000 non-null   object\n",
      "dtypes: int64(1), object(3)\n",
      "memory usage: 31.4+ KB\n"
     ]
    }
   ],
   "source": [
    "df.info()"
   ]
  },
  {
   "cell_type": "code",
   "execution_count": 23,
   "id": "39cbc520",
   "metadata": {},
   "outputs": [
    {
     "data": {
      "text/plain": [
       "array([50000, 65000, 60000, 60216, 70000, 55000], dtype=int64)"
      ]
     },
     "execution_count": 23,
     "metadata": {},
     "output_type": "execute_result"
    }
   ],
   "source": [
    "df['Salary'].unique()"
   ]
  },
  {
   "cell_type": "code",
   "execution_count": 24,
   "id": "66e6a93f",
   "metadata": {},
   "outputs": [],
   "source": [
    "df_clean = df.copy()"
   ]
  },
  {
   "cell_type": "code",
   "execution_count": 25,
   "id": "0a053e58",
   "metadata": {},
   "outputs": [],
   "source": [
    "def encodeCols(cols):\n",
    "    for i in cols:\n",
    "        temp = pd.DataFrame({i:df[i].unique()})\n",
    "        data_LE = LabelEncoder()\n",
    "        data_LE.fit(np.ravel(temp))\n",
    "        df_clean[i] = data_LE.transform(df[i])\n",
    "\n",
    "columns = ['Email', 'Position', 'Department']\n",
    "encodeCols(columns)"
   ]
  },
  {
   "cell_type": "code",
   "execution_count": 26,
   "id": "ff014130",
   "metadata": {},
   "outputs": [
    {
     "data": {
      "application/vnd.microsoft.datawrangler.viewer.v0+json": {
       "columns": [
        {
         "name": "index",
         "rawType": "int64",
         "type": "integer"
        },
        {
         "name": "Salary",
         "rawType": "int64",
         "type": "integer"
        },
        {
         "name": "Department",
         "rawType": "int32",
         "type": "integer"
        },
        {
         "name": "Position",
         "rawType": "int32",
         "type": "integer"
        },
        {
         "name": "Email",
         "rawType": "int32",
         "type": "integer"
        }
       ],
       "conversionMethod": "pd.DataFrame",
       "ref": "3d673935-07cb-4fc7-ad78-d7bcaf593402",
       "rows": [
        [
         "0",
         "50000",
         "1",
         "4",
         "0"
        ],
        [
         "1",
         "65000",
         "0",
         "3",
         "3"
        ],
        [
         "2",
         "60000",
         "4",
         "3",
         "0"
        ],
        [
         "3",
         "50000",
         "2",
         "4",
         "1"
        ],
        [
         "4",
         "60216",
         "0",
         "4",
         "1"
        ]
       ],
       "shape": {
        "columns": 4,
        "rows": 5
       }
      },
      "text/html": [
       "<div>\n",
       "<style scoped>\n",
       "    .dataframe tbody tr th:only-of-type {\n",
       "        vertical-align: middle;\n",
       "    }\n",
       "\n",
       "    .dataframe tbody tr th {\n",
       "        vertical-align: top;\n",
       "    }\n",
       "\n",
       "    .dataframe thead th {\n",
       "        text-align: right;\n",
       "    }\n",
       "</style>\n",
       "<table border=\"1\" class=\"dataframe\">\n",
       "  <thead>\n",
       "    <tr style=\"text-align: right;\">\n",
       "      <th></th>\n",
       "      <th>Salary</th>\n",
       "      <th>Department</th>\n",
       "      <th>Position</th>\n",
       "      <th>Email</th>\n",
       "    </tr>\n",
       "  </thead>\n",
       "  <tbody>\n",
       "    <tr>\n",
       "      <th>0</th>\n",
       "      <td>50000</td>\n",
       "      <td>1</td>\n",
       "      <td>4</td>\n",
       "      <td>0</td>\n",
       "    </tr>\n",
       "    <tr>\n",
       "      <th>1</th>\n",
       "      <td>65000</td>\n",
       "      <td>0</td>\n",
       "      <td>3</td>\n",
       "      <td>3</td>\n",
       "    </tr>\n",
       "    <tr>\n",
       "      <th>2</th>\n",
       "      <td>60000</td>\n",
       "      <td>4</td>\n",
       "      <td>3</td>\n",
       "      <td>0</td>\n",
       "    </tr>\n",
       "    <tr>\n",
       "      <th>3</th>\n",
       "      <td>50000</td>\n",
       "      <td>2</td>\n",
       "      <td>4</td>\n",
       "      <td>1</td>\n",
       "    </tr>\n",
       "    <tr>\n",
       "      <th>4</th>\n",
       "      <td>60216</td>\n",
       "      <td>0</td>\n",
       "      <td>4</td>\n",
       "      <td>1</td>\n",
       "    </tr>\n",
       "  </tbody>\n",
       "</table>\n",
       "</div>"
      ],
      "text/plain": [
       "   Salary  Department  Position  Email\n",
       "0   50000           1         4      0\n",
       "1   65000           0         3      3\n",
       "2   60000           4         3      0\n",
       "3   50000           2         4      1\n",
       "4   60216           0         4      1"
      ]
     },
     "execution_count": 26,
     "metadata": {},
     "output_type": "execute_result"
    }
   ],
   "source": [
    "df_clean.head()"
   ]
  },
  {
   "cell_type": "code",
   "execution_count": 27,
   "id": "b2651f88",
   "metadata": {},
   "outputs": [
    {
     "name": "stdout",
     "output_type": "stream",
     "text": [
      "<class 'pandas.core.frame.DataFrame'>\n",
      "RangeIndex: 1000 entries, 0 to 999\n",
      "Data columns (total 4 columns):\n",
      " #   Column      Non-Null Count  Dtype\n",
      "---  ------      --------------  -----\n",
      " 0   Salary      1000 non-null   int64\n",
      " 1   Department  1000 non-null   int32\n",
      " 2   Position    1000 non-null   int32\n",
      " 3   Email       1000 non-null   int32\n",
      "dtypes: int32(3), int64(1)\n",
      "memory usage: 19.7 KB\n"
     ]
    }
   ],
   "source": [
    "df_clean.info()"
   ]
  },
  {
   "cell_type": "code",
   "execution_count": 28,
   "id": "96e1fbdb",
   "metadata": {},
   "outputs": [],
   "source": [
    "df_clean.to_csv(r'cleaned-data.csv', index=False, header=True)"
   ]
  },
  {
   "cell_type": "code",
   "execution_count": 29,
   "id": "ae3716f3",
   "metadata": {},
   "outputs": [
    {
     "data": {
      "application/vnd.microsoft.datawrangler.viewer.v0+json": {
       "columns": [
        {
         "name": "index",
         "rawType": "int64",
         "type": "integer"
        },
        {
         "name": "Salary",
         "rawType": "int64",
         "type": "integer"
        },
        {
         "name": "Department",
         "rawType": "int32",
         "type": "integer"
        },
        {
         "name": "Position",
         "rawType": "int32",
         "type": "integer"
        },
        {
         "name": "Email",
         "rawType": "int32",
         "type": "integer"
        }
       ],
       "conversionMethod": "pd.DataFrame",
       "ref": "e0c62f9c-7a8f-47e7-92c3-11a07209bd14",
       "rows": [
        [
         "0",
         "50000",
         "1",
         "4",
         "0"
        ],
        [
         "1",
         "65000",
         "0",
         "3",
         "3"
        ]
       ],
       "shape": {
        "columns": 4,
        "rows": 2
       }
      },
      "text/html": [
       "<div>\n",
       "<style scoped>\n",
       "    .dataframe tbody tr th:only-of-type {\n",
       "        vertical-align: middle;\n",
       "    }\n",
       "\n",
       "    .dataframe tbody tr th {\n",
       "        vertical-align: top;\n",
       "    }\n",
       "\n",
       "    .dataframe thead th {\n",
       "        text-align: right;\n",
       "    }\n",
       "</style>\n",
       "<table border=\"1\" class=\"dataframe\">\n",
       "  <thead>\n",
       "    <tr style=\"text-align: right;\">\n",
       "      <th></th>\n",
       "      <th>Salary</th>\n",
       "      <th>Department</th>\n",
       "      <th>Position</th>\n",
       "      <th>Email</th>\n",
       "    </tr>\n",
       "  </thead>\n",
       "  <tbody>\n",
       "    <tr>\n",
       "      <th>0</th>\n",
       "      <td>50000</td>\n",
       "      <td>1</td>\n",
       "      <td>4</td>\n",
       "      <td>0</td>\n",
       "    </tr>\n",
       "    <tr>\n",
       "      <th>1</th>\n",
       "      <td>65000</td>\n",
       "      <td>0</td>\n",
       "      <td>3</td>\n",
       "      <td>3</td>\n",
       "    </tr>\n",
       "  </tbody>\n",
       "</table>\n",
       "</div>"
      ],
      "text/plain": [
       "   Salary  Department  Position  Email\n",
       "0   50000           1         4      0\n",
       "1   65000           0         3      3"
      ]
     },
     "execution_count": 29,
     "metadata": {},
     "output_type": "execute_result"
    }
   ],
   "source": [
    "df_clean.head(2)"
   ]
  },
  {
   "cell_type": "markdown",
   "id": "4e55bf67",
   "metadata": {},
   "source": [
    "# Data Splitting / Train-Test Split"
   ]
  },
  {
   "cell_type": "code",
   "execution_count": 30,
   "id": "4a99cd9f",
   "metadata": {},
   "outputs": [],
   "source": [
    "X = df_clean.iloc()[:, 0:]\n",
    "y = df_clean.iloc()[:, 0]"
   ]
  },
  {
   "cell_type": "code",
   "execution_count": 31,
   "id": "78a43e8e",
   "metadata": {},
   "outputs": [],
   "source": [
    "trainX, testX, trainY, testY = train_test_split(X, y, test_size=0.2, shuffle=False)"
   ]
  },
  {
   "cell_type": "code",
   "execution_count": 32,
   "id": "3ba61122",
   "metadata": {},
   "outputs": [
    {
     "data": {
      "application/vnd.microsoft.datawrangler.viewer.v0+json": {
       "columns": [
        {
         "name": "index",
         "rawType": "int64",
         "type": "integer"
        },
        {
         "name": "Salary",
         "rawType": "int64",
         "type": "integer"
        },
        {
         "name": "Department",
         "rawType": "int32",
         "type": "integer"
        },
        {
         "name": "Position",
         "rawType": "int32",
         "type": "integer"
        },
        {
         "name": "Email",
         "rawType": "int32",
         "type": "integer"
        }
       ],
       "conversionMethod": "pd.DataFrame",
       "ref": "55337afe-0885-422f-a0f8-a4587d53a307",
       "rows": [
        [
         "0",
         "50000",
         "1",
         "4",
         "0"
        ],
        [
         "1",
         "65000",
         "0",
         "3",
         "3"
        ]
       ],
       "shape": {
        "columns": 4,
        "rows": 2
       }
      },
      "text/html": [
       "<div>\n",
       "<style scoped>\n",
       "    .dataframe tbody tr th:only-of-type {\n",
       "        vertical-align: middle;\n",
       "    }\n",
       "\n",
       "    .dataframe tbody tr th {\n",
       "        vertical-align: top;\n",
       "    }\n",
       "\n",
       "    .dataframe thead th {\n",
       "        text-align: right;\n",
       "    }\n",
       "</style>\n",
       "<table border=\"1\" class=\"dataframe\">\n",
       "  <thead>\n",
       "    <tr style=\"text-align: right;\">\n",
       "      <th></th>\n",
       "      <th>Salary</th>\n",
       "      <th>Department</th>\n",
       "      <th>Position</th>\n",
       "      <th>Email</th>\n",
       "    </tr>\n",
       "  </thead>\n",
       "  <tbody>\n",
       "    <tr>\n",
       "      <th>0</th>\n",
       "      <td>50000</td>\n",
       "      <td>1</td>\n",
       "      <td>4</td>\n",
       "      <td>0</td>\n",
       "    </tr>\n",
       "    <tr>\n",
       "      <th>1</th>\n",
       "      <td>65000</td>\n",
       "      <td>0</td>\n",
       "      <td>3</td>\n",
       "      <td>3</td>\n",
       "    </tr>\n",
       "  </tbody>\n",
       "</table>\n",
       "</div>"
      ],
      "text/plain": [
       "   Salary  Department  Position  Email\n",
       "0   50000           1         4      0\n",
       "1   65000           0         3      3"
      ]
     },
     "execution_count": 32,
     "metadata": {},
     "output_type": "execute_result"
    }
   ],
   "source": [
    "trainX.head(2)"
   ]
  },
  {
   "cell_type": "code",
   "execution_count": 33,
   "id": "73eb6cf8",
   "metadata": {},
   "outputs": [
    {
     "data": {
      "text/plain": [
       "0    50000\n",
       "1    65000\n",
       "Name: Salary, dtype: int64"
      ]
     },
     "execution_count": 33,
     "metadata": {},
     "output_type": "execute_result"
    }
   ],
   "source": [
    "trainY.head(2)"
   ]
  },
  {
   "cell_type": "code",
   "execution_count": 34,
   "id": "c56a9580",
   "metadata": {},
   "outputs": [
    {
     "name": "stdout",
     "output_type": "stream",
     "text": [
      "TrainX: (800, 4)\n",
      "TrainY: (800,)\n",
      "TestX: (200, 4)\n",
      "TestY: (200,)\n"
     ]
    }
   ],
   "source": [
    "print(\"TrainX:\",trainX.shape)\n",
    "print(\"TrainY:\",trainY.shape)\n",
    "print(\"TestX:\",testX.shape)\n",
    "print(\"TestY:\",testY.shape)"
   ]
  },
  {
   "cell_type": "markdown",
   "id": "325ce7cc",
   "metadata": {},
   "source": [
    "# Training / Applying Classifier"
   ]
  },
  {
   "cell_type": "code",
   "execution_count": 35,
   "id": "4d4615a9",
   "metadata": {},
   "outputs": [],
   "source": [
    "import pickle\n",
    "from sklearn.svm import SVC"
   ]
  },
  {
   "cell_type": "code",
   "execution_count": 36,
   "id": "8da43ac8",
   "metadata": {},
   "outputs": [
    {
     "name": "stdout",
     "output_type": "stream",
     "text": [
      "SVC()\n"
     ]
    }
   ],
   "source": [
    "model_SVC = SVC()\n",
    "model_SVC.fit(trainX, trainY)\n",
    "\n",
    "print(model_SVC)"
   ]
  },
  {
   "cell_type": "code",
   "execution_count": 37,
   "id": "d0b9ed40",
   "metadata": {},
   "outputs": [],
   "source": [
    "pickle.dump(model_SVC, open('model_svc.pkl', 'wb'))"
   ]
  },
  {
   "cell_type": "code",
   "execution_count": 38,
   "id": "ce02cf76",
   "metadata": {},
   "outputs": [],
   "source": [
    "model_svc = pickle.load(open('model_svc.pkl', 'rb'))"
   ]
  },
  {
   "cell_type": "markdown",
   "id": "70719be7",
   "metadata": {},
   "source": [
    "# Testing & Processing Results"
   ]
  },
  {
   "cell_type": "code",
   "execution_count": 39,
   "id": "7274fa33",
   "metadata": {},
   "outputs": [],
   "source": [
    "svc_predictions = model_SVC.predict(testX)"
   ]
  },
  {
   "cell_type": "code",
   "execution_count": 40,
   "id": "033d2f0a",
   "metadata": {},
   "outputs": [
    {
     "name": "stdout",
     "output_type": "stream",
     "text": [
      "[70000 70000 70000 65000 50000 70000 55000 70000 65000 60216 55000 65000\n",
      " 60216 55000 60216 50000 50000 65000 60216 50000 60216 60216 65000 65000\n",
      " 65000 50000 65000 50000 65000 70000 60216 65000 55000 60216 60216 65000\n",
      " 60216 65000 60216 55000 60216 55000 50000 70000 60216 65000 50000 70000\n",
      " 65000 60216 65000 55000 55000 60216 50000 70000 65000 55000 50000 60216\n",
      " 60216 55000 60216 65000 70000 55000 55000 65000 60216 50000 70000 55000\n",
      " 70000 55000 70000 60216 55000 70000 50000 60216 60216 50000 70000 65000\n",
      " 50000 70000 50000 50000 55000 70000 65000 55000 50000 60216 50000 50000\n",
      " 70000 70000 55000 65000 55000 60216 50000 60216 50000 50000 55000 60216\n",
      " 60216 60216 55000 50000 55000 70000 70000 55000 60216 50000 55000 55000\n",
      " 55000 60216 70000 60216 65000 60216 65000 60216 55000 60216 60216 50000\n",
      " 70000 65000 55000 65000 60216 65000 60216 70000 60216 65000 65000 60216\n",
      " 60216 70000 50000 55000 65000 55000 50000 55000 50000 60216 60216 65000\n",
      " 50000 55000 65000 60216 60216 65000 50000 60216 55000 60216 60216 70000\n",
      " 60216 60216 65000 55000 65000 65000 50000 65000 70000 70000 50000 60216\n",
      " 55000 55000 65000 65000 60216 65000 55000 60216 70000 60216 60216 55000\n",
      " 60216 60216 50000 65000 50000 70000 65000 60216]\n"
     ]
    }
   ],
   "source": [
    "print(svc_predictions)"
   ]
  },
  {
   "cell_type": "markdown",
   "id": "aae2cece",
   "metadata": {},
   "source": [
    "# Accuracy Score"
   ]
  },
  {
   "cell_type": "code",
   "execution_count": 41,
   "id": "6b374325",
   "metadata": {},
   "outputs": [
    {
     "name": "stdout",
     "output_type": "stream",
     "text": [
      "-- Model Accuracy: 0.865\n"
     ]
    }
   ],
   "source": [
    "from sklearn.metrics import accuracy_score\n",
    "svc_accuracy = accuracy_score(testY, svc_predictions)\n",
    "\n",
    "print(\"-- Model Accuracy: \", end=\"\")\n",
    "print(round(svc_accuracy,3))"
   ]
  },
  {
   "cell_type": "code",
   "execution_count": null,
   "id": "2ed71590",
   "metadata": {},
   "outputs": [],
   "source": []
  }
 ],
 "metadata": {
  "kernelspec": {
   "display_name": "base",
   "language": "python",
   "name": "python3"
  },
  "language_info": {
   "codemirror_mode": {
    "name": "ipython",
    "version": 3
   },
   "file_extension": ".py",
   "mimetype": "text/x-python",
   "name": "python",
   "nbconvert_exporter": "python",
   "pygments_lexer": "ipython3",
   "version": "3.12.7"
  }
 },
 "nbformat": 4,
 "nbformat_minor": 5
}
