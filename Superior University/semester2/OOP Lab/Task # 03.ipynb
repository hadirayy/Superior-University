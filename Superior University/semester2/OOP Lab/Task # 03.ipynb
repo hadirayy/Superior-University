{
 "cells": [
  {
   "cell_type": "code",
   "execution_count": 8,
   "id": "9a2dd6f8-d1ab-4228-8628-4cc4a3032b48",
   "metadata": {},
   "outputs": [
    {
     "name": "stdin",
     "output_type": "stream",
     "text": [
      "Enter the width of rectangle: 45\n",
      "Enter the height of rectangle: 78\n"
     ]
    },
    {
     "name": "stdout",
     "output_type": "stream",
     "text": [
      "Rectangel: 45.0 x 78.0\n",
      "Area: 3510.0\n",
      "perimeter: 246.0\n"
     ]
    }
   ],
   "source": [
    "class Rectangle:\n",
    "    def __init__(self,width,lenght):\n",
    "        self.width= float(width)\n",
    "        self.height= float(height)\n",
    "    def __str__(self):\n",
    "        return \"Rectangel: {} x {}\".format(self.width,self.height)\n",
    "    def area(self):\n",
    "        return self.width * self.height\n",
    "    def perimeter(self):\n",
    "        return 2 * (self.width + self.height)\n",
    "width =input(\"Enter the width of rectangle:\")\n",
    "height = input(\"Enter the height of rectangle:\")\n",
    "rectangle =Rectangle(width, height)\n",
    "\n",
    "print(rectangle)\n",
    "print(\"Area:\",rectangle.area())\n",
    "print(\"perimeter:\",rectangle.perimeter())"
   ]
  },
  {
   "cell_type": "code",
   "execution_count": null,
   "id": "ec967598-9e01-446e-99fe-359007a2e27a",
   "metadata": {},
   "outputs": [],
   "source": []
  }
 ],
 "metadata": {
  "kernelspec": {
   "display_name": "Python 3 (ipykernel)",
   "language": "python",
   "name": "python3"
  },
  "language_info": {
   "codemirror_mode": {
    "name": "ipython",
    "version": 3
   },
   "file_extension": ".py",
   "mimetype": "text/x-python",
   "name": "python",
   "nbconvert_exporter": "python",
   "pygments_lexer": "ipython3",
   "version": "3.12.4"
  }
 },
 "nbformat": 4,
 "nbformat_minor": 5
}
