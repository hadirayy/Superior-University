{
 "cells": [
  {
   "cell_type": "code",
   "execution_count": 4,
   "id": "dae17d60-d727-41b2-9e83-abca7c701a39",
   "metadata": {},
   "outputs": [],
   "source": [
    "def is_prime(number):\n",
    "    if number < 2:\n",
    "        prime = False\n",
    "    else:\n",
    "        prime = True\n",
    "        for i in range(2,number):\n",
    "            if number % i == 0:\n",
    "                prime = False\n",
    "                break\n",
    "    if prime == True:\n",
    "        return \"It is a prime number\"\n",
    "    else:\n",
    "        return \"it is not a prime number\"\n",
    "    "
   ]
  },
  {
   "cell_type": "code",
   "execution_count": 7,
   "id": "7a1c3bd4-18dc-4cb1-a4d7-d903fb1ab0ce",
   "metadata": {},
   "outputs": [
    {
     "name": "stdin",
     "output_type": "stream",
     "text": [
      "Enter a number: 4\n"
     ]
    },
    {
     "name": "stdout",
     "output_type": "stream",
     "text": [
      "it is not a prime number\n"
     ]
    }
   ],
   "source": [
    "while True:\n",
    "    number = int(input(\"Enter a number:\"))\n",
    "    result = is_prime(number)\n",
    "    print(result)\n",
    "    break\n",
    "    "
   ]
  },
  {
   "cell_type": "code",
   "execution_count": null,
   "id": "32a9fef4-7cbf-4bab-a898-acc100be6224",
   "metadata": {},
   "outputs": [],
   "source": []
  }
 ],
 "metadata": {
  "kernelspec": {
   "display_name": "Python 3 (ipykernel)",
   "language": "python",
   "name": "python3"
  },
  "language_info": {
   "codemirror_mode": {
    "name": "ipython",
    "version": 3
   },
   "file_extension": ".py",
   "mimetype": "text/x-python",
   "name": "python",
   "nbconvert_exporter": "python",
   "pygments_lexer": "ipython3",
   "version": "3.12.4"
  }
 },
 "nbformat": 4,
 "nbformat_minor": 5
}
